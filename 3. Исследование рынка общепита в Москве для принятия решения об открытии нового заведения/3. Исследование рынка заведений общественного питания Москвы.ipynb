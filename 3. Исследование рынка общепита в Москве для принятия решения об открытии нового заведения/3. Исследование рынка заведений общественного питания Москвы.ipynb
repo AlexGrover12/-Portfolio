{
 "cells": [
  {
   "cell_type": "markdown",
   "id": "e15dc3f7",
   "metadata": {},
   "source": [
    "## Проектная работа\n",
    "**Исследование рынка заведений общественного питания Москвы. Открытие кофейни.**"
   ]
  },
  {
   "cell_type": "markdown",
   "id": "083b44c4",
   "metadata": {},
   "source": [
    "## Описание проекта"
   ]
  },
  {
   "cell_type": "markdown",
   "id": "02d5ae38",
   "metadata": {},
   "source": [
    "Заказчики решили попробовать себя в новой области и открыть заведение общественного питания в Москве. Заказчики ещё не знают, что это будет за место: кафе, ресторан, пиццерия, паб или бар, — и какими будут расположение, меню и цены."
   ]
  },
  {
   "cell_type": "markdown",
   "id": "0c10ce3f",
   "metadata": {},
   "source": [
    "## Задачи\n",
    "подготовить исследование рынка Москвы, найти интересные особенности и презентовать полученные результаты, которые в будущем помогут в выборе подходящего инвесторам места."
   ]
  },
  {
   "cell_type": "markdown",
   "id": "0d0f3f53",
   "metadata": {},
   "source": [
    "## Данные\n",
    "Доступен датасет с заведениями общественного питания Москвы. Частично информация могла быть добавлена пользователями или найдена в общедоступных источниках."
   ]
  },
  {
   "cell_type": "markdown",
   "id": "f785fd4a",
   "metadata": {},
   "source": [
    "## План работ"
   ]
  },
  {
   "cell_type": "markdown",
   "id": "8abe37dc",
   "metadata": {},
   "source": [
    "### 1. Загрузка и обзор данных\n",
    "\n",
    "Изучите общую информацию о датасете. Сколько заведений представлено? Что можно сказать о каждом столбце? Значения какого типа они хранят? \n",
    "\n",
    "### 2. Предобработка\n",
    "\n",
    "**2.1. Поиск и обработка пропусков, дубликатов.**\n",
    "\n",
    "**2.2. Создание дополнительных колонок.**\n",
    "\n",
    "   \n",
    "### 3. Анализ данных\n",
    "\n",
    "**3.1 Распределение заведений по категориям.**\n",
    "\n",
    "**3.2. Количество посадочных мест по категориям.**\n",
    "\n",
    "**3.3. Соотношение сетевых и несетевых заведений в датасете.**\n",
    "\n",
    "**3.4. Распределение сетевых заведений.**\n",
    "\n",
    "**3.5. Топ-15 популярных сетей в Москве.**\n",
    "\n",
    "**3.6. Количество заведений каждой категории по административным районам.**\n",
    "\n",
    "**3.7. Распределение средних рейтингов по категориям заведений.**\n",
    "\n",
    "**3.8. Хороплет со средним рейтингом заведений каждого район.**\n",
    "\n",
    "**3.9. Кластеризация заведений на карте.**\n",
    "\n",
    "**3.10. Топ-15 улиц по количеству заведений.**\n",
    "\n",
    "**3.11. Улицы с одним заведением.**\n",
    "\n",
    "**3.12. Ценовая картограмма. Влияние удалённости от центра на цены.**\n",
    "\n",
    "**3.13. Промежуточный вывод.**\n",
    "\n",
    "### 4. Открытие кофейни\n",
    "\n",
    "Желание заказчика - открыть доступную, как «Central Perk», кофейню в Москве. Заказчики не боятся конкуренции в этой сфере, ведь кофеен в больших городах уже достаточно.\n",
    "\n",
    "**4.1. Распределение кофеен по районам.**\n",
    "\n",
    "**4.2. Круглосуточные кофейни.**\n",
    "\n",
    "**4.3. Рейтинги кофеен по районам.**\n",
    "\n",
    "**4.4. Стоимость чашки капучино как ориентир.**\n",
    "\n",
    "### 5. Материалы для коллег (презентация)."
   ]
  },
  {
   "cell_type": "markdown",
   "id": "4a284261",
   "metadata": {},
   "source": [
    "### 1. Загрузка и обзор данных."
   ]
  },
  {
   "cell_type": "markdown",
   "id": "ea4df93a",
   "metadata": {},
   "source": [
    "Начнем с импорта необходимых для работы библиотек"
   ]
  },
  {
   "cell_type": "code",
   "execution_count": 1,
   "id": "b7c56e3a",
   "metadata": {},
   "outputs": [],
   "source": [
    "# импортируем библиотеки \n",
    "import pandas as pd\n",
    "import plotly.express as px\n",
    "from plotly import graph_objects as go\n",
    "import matplotlib.pyplot as plt\n",
    "import seaborn as sns\n",
    "import folium\n",
    "from folium import Marker, Map, Choropleth\n",
    "from folium.plugins import MarkerCluster\n",
    "from folium.features import CustomIcon\n",
    "import json"
   ]
  },
  {
   "cell_type": "markdown",
   "id": "f7b839b7",
   "metadata": {},
   "source": [
    "Загружаем данные."
   ]
  },
  {
   "cell_type": "code",
   "execution_count": 2,
   "id": "2f53817f",
   "metadata": {},
   "outputs": [],
   "source": [
    "data = pd.read_csv('C:/Users/79998/Documents/daqw/moscow_places.csv')"
   ]
  },
  {
   "cell_type": "markdown",
   "id": "2eb58add",
   "metadata": {},
   "source": [
    "Выведем первые строки для обзора."
   ]
  },
  {
   "cell_type": "code",
   "execution_count": 3,
   "id": "57581d35",
   "metadata": {},
   "outputs": [
    {
     "data": {
      "text/html": [
       "<div>\n",
       "<style scoped>\n",
       "    .dataframe tbody tr th:only-of-type {\n",
       "        vertical-align: middle;\n",
       "    }\n",
       "\n",
       "    .dataframe tbody tr th {\n",
       "        vertical-align: top;\n",
       "    }\n",
       "\n",
       "    .dataframe thead th {\n",
       "        text-align: right;\n",
       "    }\n",
       "</style>\n",
       "<table border=\"1\" class=\"dataframe\">\n",
       "  <thead>\n",
       "    <tr style=\"text-align: right;\">\n",
       "      <th></th>\n",
       "      <th>name</th>\n",
       "      <th>category</th>\n",
       "      <th>address</th>\n",
       "      <th>district</th>\n",
       "      <th>hours</th>\n",
       "      <th>lat</th>\n",
       "      <th>lng</th>\n",
       "      <th>rating</th>\n",
       "      <th>price</th>\n",
       "      <th>avg_bill</th>\n",
       "      <th>middle_avg_bill</th>\n",
       "      <th>middle_coffee_cup</th>\n",
       "      <th>chain</th>\n",
       "      <th>seats</th>\n",
       "    </tr>\n",
       "  </thead>\n",
       "  <tbody>\n",
       "    <tr>\n",
       "      <th>0</th>\n",
       "      <td>WoWфли</td>\n",
       "      <td>кафе</td>\n",
       "      <td>Москва, улица Дыбенко, 7/1</td>\n",
       "      <td>Северный административный округ</td>\n",
       "      <td>ежедневно, 10:00–22:00</td>\n",
       "      <td>55.878494</td>\n",
       "      <td>37.478860</td>\n",
       "      <td>5.0</td>\n",
       "      <td>NaN</td>\n",
       "      <td>NaN</td>\n",
       "      <td>NaN</td>\n",
       "      <td>NaN</td>\n",
       "      <td>0</td>\n",
       "      <td>NaN</td>\n",
       "    </tr>\n",
       "    <tr>\n",
       "      <th>1</th>\n",
       "      <td>Четыре комнаты</td>\n",
       "      <td>ресторан</td>\n",
       "      <td>Москва, улица Дыбенко, 36, корп. 1</td>\n",
       "      <td>Северный административный округ</td>\n",
       "      <td>ежедневно, 10:00–22:00</td>\n",
       "      <td>55.875801</td>\n",
       "      <td>37.484479</td>\n",
       "      <td>4.5</td>\n",
       "      <td>выше среднего</td>\n",
       "      <td>Средний счёт:1500–1600 ₽</td>\n",
       "      <td>1550.0</td>\n",
       "      <td>NaN</td>\n",
       "      <td>0</td>\n",
       "      <td>4.0</td>\n",
       "    </tr>\n",
       "    <tr>\n",
       "      <th>2</th>\n",
       "      <td>Хазри</td>\n",
       "      <td>кафе</td>\n",
       "      <td>Москва, Клязьминская улица, 15</td>\n",
       "      <td>Северный административный округ</td>\n",
       "      <td>пн-чт 11:00–02:00; пт,сб 11:00–05:00; вс 11:00...</td>\n",
       "      <td>55.889146</td>\n",
       "      <td>37.525901</td>\n",
       "      <td>4.6</td>\n",
       "      <td>средние</td>\n",
       "      <td>Средний счёт:от 1000 ₽</td>\n",
       "      <td>1000.0</td>\n",
       "      <td>NaN</td>\n",
       "      <td>0</td>\n",
       "      <td>45.0</td>\n",
       "    </tr>\n",
       "  </tbody>\n",
       "</table>\n",
       "</div>"
      ],
      "text/plain": [
       "             name  category                             address  \\\n",
       "0          WoWфли      кафе          Москва, улица Дыбенко, 7/1   \n",
       "1  Четыре комнаты  ресторан  Москва, улица Дыбенко, 36, корп. 1   \n",
       "2           Хазри      кафе      Москва, Клязьминская улица, 15   \n",
       "\n",
       "                          district  \\\n",
       "0  Северный административный округ   \n",
       "1  Северный административный округ   \n",
       "2  Северный административный округ   \n",
       "\n",
       "                                               hours        lat        lng  \\\n",
       "0                             ежедневно, 10:00–22:00  55.878494  37.478860   \n",
       "1                             ежедневно, 10:00–22:00  55.875801  37.484479   \n",
       "2  пн-чт 11:00–02:00; пт,сб 11:00–05:00; вс 11:00...  55.889146  37.525901   \n",
       "\n",
       "   rating          price                  avg_bill  middle_avg_bill  \\\n",
       "0     5.0            NaN                       NaN              NaN   \n",
       "1     4.5  выше среднего  Средний счёт:1500–1600 ₽           1550.0   \n",
       "2     4.6        средние    Средний счёт:от 1000 ₽           1000.0   \n",
       "\n",
       "   middle_coffee_cup  chain  seats  \n",
       "0                NaN      0    NaN  \n",
       "1                NaN      0    4.0  \n",
       "2                NaN      0   45.0  "
      ]
     },
     "execution_count": 3,
     "metadata": {},
     "output_type": "execute_result"
    }
   ],
   "source": [
    "data.head(3)"
   ]
  },
  {
   "cell_type": "code",
   "execution_count": 4,
   "id": "69cb9540",
   "metadata": {},
   "outputs": [
    {
     "name": "stdout",
     "output_type": "stream",
     "text": [
      "<class 'pandas.core.frame.DataFrame'>\n",
      "RangeIndex: 8406 entries, 0 to 8405\n",
      "Data columns (total 14 columns):\n",
      " #   Column             Non-Null Count  Dtype  \n",
      "---  ------             --------------  -----  \n",
      " 0   name               8406 non-null   object \n",
      " 1   category           8406 non-null   object \n",
      " 2   address            8406 non-null   object \n",
      " 3   district           8406 non-null   object \n",
      " 4   hours              7870 non-null   object \n",
      " 5   lat                8406 non-null   float64\n",
      " 6   lng                8406 non-null   float64\n",
      " 7   rating             8406 non-null   float64\n",
      " 8   price              3315 non-null   object \n",
      " 9   avg_bill           3816 non-null   object \n",
      " 10  middle_avg_bill    3149 non-null   float64\n",
      " 11  middle_coffee_cup  535 non-null    float64\n",
      " 12  chain              8406 non-null   int64  \n",
      " 13  seats              4795 non-null   float64\n",
      "dtypes: float64(6), int64(1), object(7)\n",
      "memory usage: 919.5+ KB\n"
     ]
    }
   ],
   "source": [
    "data.info()"
   ]
  },
  {
   "cell_type": "markdown",
   "id": "49fa87bc",
   "metadata": {},
   "source": [
    "**Вывод:**\n",
    "1. В датасете представлено 8406 заведений\n",
    "2. На первый взгляд типы данных соответствуют содержанию столбцов. Данных достаточно для проведения полноценного анализа."
   ]
  },
  {
   "cell_type": "markdown",
   "id": "5326875a",
   "metadata": {},
   "source": [
    "### 2. Предобработка"
   ]
  },
  {
   "cell_type": "markdown",
   "id": "9bc790ae",
   "metadata": {},
   "source": [
    "#### 2.1. Поиск и обработка пропусков, дубликатов."
   ]
  },
  {
   "cell_type": "code",
   "execution_count": 5,
   "id": "6852bae5",
   "metadata": {},
   "outputs": [
    {
     "data": {
      "text/plain": [
       "0"
      ]
     },
     "execution_count": 5,
     "metadata": {},
     "output_type": "execute_result"
    }
   ],
   "source": [
    "data.duplicated().sum()"
   ]
  },
  {
   "cell_type": "code",
   "execution_count": 6,
   "id": "96768199",
   "metadata": {},
   "outputs": [
    {
     "data": {
      "text/plain": [
       "0"
      ]
     },
     "execution_count": 6,
     "metadata": {},
     "output_type": "execute_result"
    }
   ],
   "source": [
    "data['name'] = data['name'].str.lower()\n",
    "data.duplicated().sum()"
   ]
  },
  {
   "cell_type": "code",
   "execution_count": 7,
   "id": "c3c4a9a5",
   "metadata": {},
   "outputs": [
    {
     "data": {
      "text/plain": [
       "0"
      ]
     },
     "execution_count": 7,
     "metadata": {},
     "output_type": "execute_result"
    }
   ],
   "source": [
    "data['address'] = data['address'].str.lower()\n",
    "data.duplicated().sum()"
   ]
  },
  {
   "cell_type": "code",
   "execution_count": 8,
   "id": "e983a440",
   "metadata": {},
   "outputs": [
    {
     "data": {
      "text/plain": [
       "кафе                                   189\n",
       "шоколадница                            120\n",
       "домино'с пицца                          77\n",
       "додо пицца                              74\n",
       "one price coffee                        72\n",
       "яндекс лавка                            69\n",
       "cofix                                   65\n",
       "prime                                   50\n",
       "хинкальная                              44\n",
       "шаурма                                  43\n",
       "кофепорт                                42\n",
       "кулинарная лавка братьев караваевых     39\n",
       "теремок                                 38\n",
       "чайхана                                 37\n",
       "ресторан                                34\n",
       "буханка                                 32\n",
       "cofefest                                32\n",
       "столовая                                28\n",
       "му-му                                   27\n",
       "drive café                              24\n",
       "Name: name, dtype: int64"
      ]
     },
     "execution_count": 8,
     "metadata": {},
     "output_type": "execute_result"
    }
   ],
   "source": [
    "data['name'].value_counts().head(20)"
   ]
  },
  {
   "cell_type": "code",
   "execution_count": 9,
   "id": "c90077bf",
   "metadata": {},
   "outputs": [
    {
     "data": {
      "text/plain": [
       "москва, проспект вернадского, 86в          28\n",
       "москва, усачёва улица, 26                  26\n",
       "москва, площадь киевского вокзала, 2       20\n",
       "москва, ярцевская улица, 19                20\n",
       "москва, пресненская набережная, 2          16\n",
       "москва, проспект мира, 211к2               16\n",
       "москва, щёлковское шоссе, вл75             16\n",
       "москва, каширское шоссе, 61г               16\n",
       "москва, лесная улица, 20, стр. 3           16\n",
       "москва, хорошёвское шоссе, 27              16\n",
       "москва, профсоюзная улица, 56              15\n",
       "москва, проспект мира, 211, корп. 2        15\n",
       "москва, улица авиаконструктора миля, 3а    15\n",
       "москва, улица вавилова, 64/1с1             14\n",
       "москва, мытная улица, 74                   14\n",
       "москва, улица вавилова, 3                  14\n",
       "москва, проспект вернадского, 86а          12\n",
       "москва, электродная улица, 2, стр. 32      11\n",
       "москва, щукинская улица, 42                11\n",
       "москва, хабаровская улица, 15              11\n",
       "Name: address, dtype: int64"
      ]
     },
     "execution_count": 9,
     "metadata": {},
     "output_type": "execute_result"
    }
   ],
   "source": [
    "data['address'].value_counts().head(20)"
   ]
  },
  {
   "cell_type": "code",
   "execution_count": 10,
   "id": "ab6c5523",
   "metadata": {},
   "outputs": [
    {
     "data": {
      "text/plain": [
       "паrk фудхолл              1\n",
       "i need doner              1\n",
       "вафли, крепы, два яйца    1\n",
       "бургер кинг               1\n",
       "plov.com                  1\n",
       "Name: name, dtype: int64"
      ]
     },
     "execution_count": 10,
     "metadata": {},
     "output_type": "execute_result"
    }
   ],
   "source": [
    "test_1 = data[data['address'] == 'москва, проспект вернадского, 86в']\n",
    "test_1['name'].value_counts().head(5)"
   ]
  },
  {
   "cell_type": "markdown",
   "id": "47488a70",
   "metadata": {},
   "source": [
    "Сделаем еще одну проверку на неявные дубликаты."
   ]
  },
  {
   "cell_type": "code",
   "execution_count": 11,
   "id": "4f83a6b5",
   "metadata": {},
   "outputs": [
    {
     "data": {
      "text/plain": [
       "4"
      ]
     },
     "execution_count": 11,
     "metadata": {},
     "output_type": "execute_result"
    }
   ],
   "source": [
    "c_list = ['name', 'address']\n",
    "data.duplicated(subset=c_list).sum()"
   ]
  },
  {
   "cell_type": "markdown",
   "id": "87785f67",
   "metadata": {},
   "source": [
    "Нашли 4 возможных неявных дубликата у которых совпадает название и адрес"
   ]
  },
  {
   "cell_type": "code",
   "execution_count": 12,
   "id": "2213407f",
   "metadata": {},
   "outputs": [
    {
     "data": {
      "text/plain": [
       "1"
      ]
     },
     "execution_count": 12,
     "metadata": {},
     "output_type": "execute_result"
    }
   ],
   "source": [
    "c_list = ['name', 'lat', 'lng']\n",
    "data.duplicated(subset=c_list).sum()"
   ]
  },
  {
   "cell_type": "markdown",
   "id": "13d04c46",
   "metadata": {},
   "source": [
    "Нашли 1 возможный неявный дубликат где совпадает название и координаты"
   ]
  },
  {
   "cell_type": "markdown",
   "id": "6d2b2d1b",
   "metadata": {},
   "source": [
    "Проверим все столбцы, кроме названия."
   ]
  },
  {
   "cell_type": "code",
   "execution_count": 13,
   "id": "9c1a5e95",
   "metadata": {},
   "outputs": [],
   "source": [
    "c_list = data.columns.values.tolist()\n",
    "c_list\n",
    "c_list = [\n",
    " 'category',\n",
    " 'address',\n",
    " 'district',\n",
    " 'hours',\n",
    " 'lat',\n",
    " 'lng',\n",
    " 'rating',\n",
    " 'price',\n",
    " 'avg_bill',\n",
    " 'middle_avg_bill',\n",
    " 'middle_coffee_cup',\n",
    " 'chain',\n",
    " 'seats',\n",
    " 'street',\n",
    " 'is_24/7']"
   ]
  },
  {
   "cell_type": "code",
   "execution_count": 14,
   "id": "c656e62f",
   "metadata": {},
   "outputs": [
    {
     "ename": "KeyError",
     "evalue": "Index(['is_24/7', 'street'], dtype='object')",
     "output_type": "error",
     "traceback": [
      "\u001b[1;31m---------------------------------------------------------------------------\u001b[0m",
      "\u001b[1;31mKeyError\u001b[0m                                  Traceback (most recent call last)",
      "\u001b[1;32m~\\AppData\\Local\\Temp\\ipykernel_9408\\4173020419.py\u001b[0m in \u001b[0;36m<module>\u001b[1;34m\u001b[0m\n\u001b[1;32m----> 1\u001b[1;33m \u001b[0mdata\u001b[0m\u001b[1;33m.\u001b[0m\u001b[0mduplicated\u001b[0m\u001b[1;33m(\u001b[0m\u001b[0msubset\u001b[0m\u001b[1;33m=\u001b[0m\u001b[0mc_list\u001b[0m\u001b[1;33m)\u001b[0m\u001b[1;33m.\u001b[0m\u001b[0msum\u001b[0m\u001b[1;33m(\u001b[0m\u001b[1;33m)\u001b[0m\u001b[1;33m\u001b[0m\u001b[1;33m\u001b[0m\u001b[0m\n\u001b[0m",
      "\u001b[1;32m~\\anaconda3\\lib\\site-packages\\pandas\\core\\frame.py\u001b[0m in \u001b[0;36mduplicated\u001b[1;34m(self, subset, keep)\u001b[0m\n\u001b[0;32m   6257\u001b[0m         \u001b[0mdiff\u001b[0m \u001b[1;33m=\u001b[0m \u001b[0mIndex\u001b[0m\u001b[1;33m(\u001b[0m\u001b[0msubset\u001b[0m\u001b[1;33m)\u001b[0m\u001b[1;33m.\u001b[0m\u001b[0mdifference\u001b[0m\u001b[1;33m(\u001b[0m\u001b[0mself\u001b[0m\u001b[1;33m.\u001b[0m\u001b[0mcolumns\u001b[0m\u001b[1;33m)\u001b[0m\u001b[1;33m\u001b[0m\u001b[1;33m\u001b[0m\u001b[0m\n\u001b[0;32m   6258\u001b[0m         \u001b[1;32mif\u001b[0m \u001b[1;32mnot\u001b[0m \u001b[0mdiff\u001b[0m\u001b[1;33m.\u001b[0m\u001b[0mempty\u001b[0m\u001b[1;33m:\u001b[0m\u001b[1;33m\u001b[0m\u001b[1;33m\u001b[0m\u001b[0m\n\u001b[1;32m-> 6259\u001b[1;33m             \u001b[1;32mraise\u001b[0m \u001b[0mKeyError\u001b[0m\u001b[1;33m(\u001b[0m\u001b[0mdiff\u001b[0m\u001b[1;33m)\u001b[0m\u001b[1;33m\u001b[0m\u001b[1;33m\u001b[0m\u001b[0m\n\u001b[0m\u001b[0;32m   6260\u001b[0m \u001b[1;33m\u001b[0m\u001b[0m\n\u001b[0;32m   6261\u001b[0m         \u001b[0mvals\u001b[0m \u001b[1;33m=\u001b[0m \u001b[1;33m(\u001b[0m\u001b[0mcol\u001b[0m\u001b[1;33m.\u001b[0m\u001b[0mvalues\u001b[0m \u001b[1;32mfor\u001b[0m \u001b[0mname\u001b[0m\u001b[1;33m,\u001b[0m \u001b[0mcol\u001b[0m \u001b[1;32min\u001b[0m \u001b[0mself\u001b[0m\u001b[1;33m.\u001b[0m\u001b[0mitems\u001b[0m\u001b[1;33m(\u001b[0m\u001b[1;33m)\u001b[0m \u001b[1;32mif\u001b[0m \u001b[0mname\u001b[0m \u001b[1;32min\u001b[0m \u001b[0msubset\u001b[0m\u001b[1;33m)\u001b[0m\u001b[1;33m\u001b[0m\u001b[1;33m\u001b[0m\u001b[0m\n",
      "\u001b[1;31mKeyError\u001b[0m: Index(['is_24/7', 'street'], dtype='object')"
     ]
    }
   ],
   "source": [
    "data.duplicated(subset=c_list).sum()"
   ]
  },
  {
   "cell_type": "code",
   "execution_count": null,
   "id": "6c3a5f2f",
   "metadata": {},
   "outputs": [],
   "source": [
    "data.query('chain == 1')['name'].value_counts().tail(10)"
   ]
  },
  {
   "cell_type": "markdown",
   "id": "320b0e4e",
   "metadata": {},
   "source": [
    "Допускаю, что могут быть некоторые некорректные названия заведений, отличающихся скажем латинским или русским написанием. В целях нашего исследования допускается, что в данных нет неявных дубликатов. Этот момент согласован с заказчиком."
   ]
  },
  {
   "cell_type": "markdown",
   "id": "6c84ee9e",
   "metadata": {},
   "source": [
    "Таким образом данных отсутвтуют явные и неявные дубликаты."
   ]
  },
  {
   "cell_type": "code",
   "execution_count": null,
   "id": "fc18251b",
   "metadata": {},
   "outputs": [],
   "source": [
    "data.isna().sum()"
   ]
  },
  {
   "cell_type": "markdown",
   "id": "8cdf7cd9",
   "metadata": {},
   "source": [
    "Пропуски в следующих столбцах:\n",
    "1. **hours (информация о днях и часах работы)** - заполнить нечем\n",
    "\n",
    "2. **price (категория цен в заведении, например «средние», «ниже среднего», «выше среднего» и так далее)** - можно заполнить единообразно для известных кафе с одинаковым названием. Пока в этом нет необходимости.\n",
    "\n",
    "3. **avg_bill (строка, которая хранит среднюю стоимость заказа в виде диапазона, например)** - можно заполнить аналогично столбцу price, но пока не будем этого делать.\n",
    "\n",
    "4. **middle_avg_bill (число с оценкой среднего чека, которое указано только для значений из столбца avg_bill, начинающихся с подстроки «Средний счёт»)** - пропуски там, где в столбце avg_bill нет значения или оно не начинается с подстроки «Средний счёт». Оставляем как есть.\n",
    "\n",
    "5. **middle_coffee_cup (число с оценкой одной чашки капучино, которое указано только для значений из столбца avg_bill, начинающихся с подстроки «Цена одной чашки капучино»)** - пропуски там, где в столбце avg_bill нет значения или оно не начинается с подстроки «Цена одной чашки капучино». Оставляем как есть.\n",
    "\n",
    "6. **seats (количество посадочных мест)** - можно было бы заполнить медианой в зависимости от категории. Пока не будем это делать."
   ]
  },
  {
   "cell_type": "markdown",
   "id": "f431a311",
   "metadata": {},
   "source": [
    "#### Вывод: \n",
    "* В данных отсутвтуют явные и неявные дубликаты.\n",
    "* Некоторые пропуски мы можем заполнить, но на данном этапе не будем этого делать"
   ]
  },
  {
   "cell_type": "markdown",
   "id": "902a8290",
   "metadata": {},
   "source": [
    "#### 2.1. Создание дополнительных колонок."
   ]
  },
  {
   "cell_type": "markdown",
   "id": "079e4ec3",
   "metadata": {},
   "source": [
    "Создадим колонку с названием улицы."
   ]
  },
  {
   "cell_type": "code",
   "execution_count": null,
   "id": "5ebec217",
   "metadata": {},
   "outputs": [],
   "source": [
    "def street(address):\n",
    "    street = address.split(', ')\n",
    "    return street[1]"
   ]
  },
  {
   "cell_type": "code",
   "execution_count": null,
   "id": "8abadc59",
   "metadata": {},
   "outputs": [],
   "source": [
    "data['street'] = data['address'].apply(street)"
   ]
  },
  {
   "cell_type": "code",
   "execution_count": null,
   "id": "869bb808",
   "metadata": {},
   "outputs": [],
   "source": [
    "data['street'].value_counts().sort_values(ascending = True).head(20)"
   ]
  },
  {
   "cell_type": "code",
   "execution_count": null,
   "id": "147d4449",
   "metadata": {},
   "outputs": [],
   "source": [
    "data.head(1)"
   ]
  },
  {
   "cell_type": "markdown",
   "id": "04448757",
   "metadata": {},
   "source": [
    "Столбец создан"
   ]
  },
  {
   "cell_type": "markdown",
   "id": "0309a017",
   "metadata": {},
   "source": [
    "Теперь создадим колонку с категорией заведения по времени работы."
   ]
  },
  {
   "cell_type": "markdown",
   "id": "d44d36eb",
   "metadata": {},
   "source": [
    "- логическое значение True — если заведение работает ежедневно и круглосуточно;\n",
    "- логическое значение False — в противоположном случае."
   ]
  },
  {
   "cell_type": "code",
   "execution_count": null,
   "id": "5c9a4dfe",
   "metadata": {},
   "outputs": [],
   "source": [
    "data['hours'].value_counts().head(20)"
   ]
  },
  {
   "cell_type": "code",
   "execution_count": null,
   "id": "0af513f4",
   "metadata": {},
   "outputs": [],
   "source": [
    "def tf(hours):\n",
    "    if hours == 'ежедневно, круглосуточно':\n",
    "        return True\n",
    "    else:\n",
    "        return False"
   ]
  },
  {
   "cell_type": "code",
   "execution_count": null,
   "id": "9d7be9f6",
   "metadata": {},
   "outputs": [],
   "source": [
    "data['is_24/7'] = data['hours'].apply(tf)"
   ]
  },
  {
   "cell_type": "code",
   "execution_count": null,
   "id": "1dc5613a",
   "metadata": {},
   "outputs": [],
   "source": [
    "data['is_24/7'].value_counts()"
   ]
  },
  {
   "cell_type": "markdown",
   "id": "8e139c07",
   "metadata": {},
   "source": [
    "Столбец создан"
   ]
  },
  {
   "cell_type": "markdown",
   "id": "08c4c20f",
   "metadata": {},
   "source": [
    "### 3. Анализ данных"
   ]
  },
  {
   "cell_type": "markdown",
   "id": "b854cacc",
   "metadata": {},
   "source": [
    "#### 3.1 Распределение заведений по категориям."
   ]
  },
  {
   "cell_type": "code",
   "execution_count": null,
   "id": "92ab6d70",
   "metadata": {},
   "outputs": [],
   "source": [
    "cat = data.groupby('category').agg({'name' : 'count'}).sort_values(by='name', ascending = False)\n",
    "cat.reset_index(inplace= True)\n",
    "cat.columns = ['category', 'count']\n",
    "fig = px.bar(cat, x='category', y='count', title='Распределение заведений по категориям', text='count')\n",
    "fig.update_layout(xaxis_title = 'Категория', yaxis_title = 'Количество заведений')\n",
    "fig.update_xaxes(tickangle=45)\n",
    "fig.show()"
   ]
  },
  {
   "cell_type": "markdown",
   "id": "9c7d6bc6",
   "metadata": {},
   "source": [
    "**Вывод:** В топ-3 категории входят кафе, рестораны и кофейни. Меньше всего булочных, столовых и заведений категории \"быстрое питание\"."
   ]
  },
  {
   "cell_type": "markdown",
   "id": "78e3868a",
   "metadata": {},
   "source": [
    "#### 3.2. Количество посадочных мест по категориям.**"
   ]
  },
  {
   "cell_type": "code",
   "execution_count": null,
   "id": "8f178762",
   "metadata": {},
   "outputs": [],
   "source": [
    "data['seats'].value_counts()"
   ]
  },
  {
   "cell_type": "markdown",
   "id": "aca09dc9",
   "metadata": {},
   "source": [
    "Для анализа количества посадочных мест в местах по категориям расчитаем медианное количество мест"
   ]
  },
  {
   "cell_type": "code",
   "execution_count": null,
   "id": "1ea28595",
   "metadata": {},
   "outputs": [],
   "source": [
    "catt = data.groupby('category').agg({'seats' : 'median'}).sort_values(by='seats', ascending = False)\n",
    "catt.reset_index(inplace= True)\n",
    "catt.columns = ['category', 'count']\n",
    "fig = px.bar(catt, x='category', y='count', title='Медианное количество посадочных мест по категориям', text='count')\n",
    "fig.update_layout(xaxis_title = 'Категория', yaxis_title = 'Медианное количество мест')\n",
    "fig.update_xaxes(tickangle=45)\n",
    "fig.show() "
   ]
  },
  {
   "cell_type": "markdown",
   "id": "6d0c78b1",
   "metadata": {},
   "source": [
    "Как правило больше всего посадочных мест в ресторанах, барах и кофейнях. Меньше всего в булочных, пиццериях и кафе."
   ]
  },
  {
   "cell_type": "markdown",
   "id": "d46a875c",
   "metadata": {},
   "source": [
    "Посмотрим на распределение количества посадочных мест по категориям. Построим диаграмму рассеяния."
   ]
  },
  {
   "cell_type": "code",
   "execution_count": null,
   "id": "c4420c9d",
   "metadata": {},
   "outputs": [],
   "source": [
    "plt.figure(figsize=(16, 6))\n",
    "sns.stripplot(x='category', y='seats', data=data)\n",
    "plt.title('Распределение количества посадочных мест по категориям')\n",
    "plt.xlabel('Категория')\n",
    "plt.ylabel('Количество посадочных мест')\n",
    "plt.show()"
   ]
  },
  {
   "cell_type": "markdown",
   "id": "c9146d42",
   "metadata": {},
   "source": [
    "**Вывод:** Как правило больше всего посадочных мест в ресторанах, барах и кофейнях. Меньше всего в булочных, пиццериях и кафе."
   ]
  },
  {
   "cell_type": "markdown",
   "id": "54f93a56",
   "metadata": {},
   "source": [
    "#### 3.3. Соотношение сетевых и несетевых заведений в датасете."
   ]
  },
  {
   "cell_type": "code",
   "execution_count": null,
   "id": "2e75284e",
   "metadata": {},
   "outputs": [],
   "source": [
    "data['chain'].value_counts()"
   ]
  },
  {
   "cell_type": "markdown",
   "id": "45a71bb3",
   "metadata": {},
   "source": [
    "Больше всего не сетевых заведений."
   ]
  },
  {
   "cell_type": "markdown",
   "id": "e476da62",
   "metadata": {},
   "source": [
    "Построим круговую диаграмму."
   ]
  },
  {
   "cell_type": "code",
   "execution_count": null,
   "id": "84a0cba2",
   "metadata": {},
   "outputs": [],
   "source": [
    "df_rooms = pd.DataFrame(data['chain'].value_counts()).reset_index()\n",
    "# строим диаграмму с сегментами\n",
    "fig = go.Figure(data=[go.Pie(labels=df_rooms['index'], # указываем значения, которые появятся на метках сегментов\n",
    "                             values=df_rooms['chain'], # указываем данные, которые отобразятся на графике\n",
    "                             pull = [0.1, 0])]) # добавляем аргумент, который выделит сегмент-лидер на графике\n",
    "fig.update_layout(title='Соотношение количества сетевых и несетевых заведений', # указываем заголовок графика\n",
    "                  width=800, # указываем размеры графика\n",
    "                  height=600,\n",
    "                  annotations=[dict(x=1.12, # вручную настраиваем аннотацию легенды\n",
    "                                    y=1.05,\n",
    "                                    text='0 - несетевое, 1 - сетевое',\n",
    "                                    showarrow=False)])\n",
    "fig.show() # выводим график"
   ]
  },
  {
   "cell_type": "markdown",
   "id": "24a602be",
   "metadata": {},
   "source": [
    "***Вывод:*** Больше всего не сетевых заведения. Они составляют 61.9 % от всех заведений."
   ]
  },
  {
   "cell_type": "markdown",
   "id": "d1bffac3",
   "metadata": {},
   "source": [
    "#### 3.4. Распределение сетевых заведений."
   ]
  },
  {
   "cell_type": "markdown",
   "id": "97950b17",
   "metadata": {},
   "source": [
    "Сначала посчитаем количество сетевых"
   ]
  },
  {
   "cell_type": "code",
   "execution_count": null,
   "id": "1b74450f",
   "metadata": {},
   "outputs": [],
   "source": [
    "qwer = data.query('chain == 1').groupby('category').agg({'name' : 'count'}).sort_values(by='name', ascending = False)\n",
    "qwer.reset_index(inplace= True)\n",
    "qwer.columns = ['category', 'count_chain']"
   ]
  },
  {
   "cell_type": "markdown",
   "id": "e86a6bbb",
   "metadata": {},
   "source": [
    "Затем несетевых"
   ]
  },
  {
   "cell_type": "code",
   "execution_count": null,
   "id": "236d3617",
   "metadata": {},
   "outputs": [],
   "source": [
    "qwer1 = data.query('chain == 0').groupby('category').agg({'name' : 'count'}).sort_values(by='name', ascending = False)\n",
    "qwer1.reset_index(inplace= True)\n",
    "qwer1.columns = ['category', 'count_no_chain']"
   ]
  },
  {
   "cell_type": "markdown",
   "id": "b6977cff",
   "metadata": {},
   "source": [
    "Объединяем таблички и строим график."
   ]
  },
  {
   "cell_type": "code",
   "execution_count": null,
   "id": "d08b0660",
   "metadata": {},
   "outputs": [],
   "source": [
    "chain_data = qwer.merge(\n",
    "qwer1,\n",
    "on='category',\n",
    "how='inner'\n",
    ")\n",
    "chain_data['total'] = chain_data['count_chain'] + chain_data['count_no_chain']\n",
    "chain_data['chane_share'] = round(chain_data['count_chain'] / chain_data['total'] * 100, 1)\n",
    "chain_data = chain_data.sort_values(by='chane_share', ascending = False)\n",
    "\n",
    "fig = px.bar(chain_data, x='category', y='chane_share', title='Доли сетевых заведений по категориям', text='chane_share')\n",
    "fig.update_layout(xaxis_title = 'Категория', yaxis_title = 'Доля (%) сетевых среди всех заведений категории')\n",
    "fig.update_xaxes(tickangle=45)\n",
    "fig.show()"
   ]
  },
  {
   "cell_type": "markdown",
   "id": "ae2962b0",
   "metadata": {},
   "source": [
    "***Вывод:*** Чаще всего сетевыми заведениями являются булочные, пиццерии и кофейни. Реже - кафе, столовые и бары."
   ]
  },
  {
   "cell_type": "markdown",
   "id": "43e1efd8",
   "metadata": {},
   "source": [
    "#### 3.5. Топ-15 популярных сетей в Москве."
   ]
  },
  {
   "cell_type": "code",
   "execution_count": null,
   "id": "709e43c5",
   "metadata": {},
   "outputs": [],
   "source": [
    "heh = data.groupby('name').agg({'district' : 'count'}).sort_values(by='district', ascending = False).head(15)\n",
    "heh"
   ]
  },
  {
   "cell_type": "markdown",
   "id": "d7c33976",
   "metadata": {},
   "source": [
    "Видим что тут затесались безликие заведения с названием \"кафе\", \"шаурма\", \"ресторан\", \"столовая\". Исключим их из нашего топ-15."
   ]
  },
  {
   "cell_type": "code",
   "execution_count": null,
   "id": "7d04f6b9",
   "metadata": {},
   "outputs": [],
   "source": [
    "chain_dff = data.query('chain == 1')\n",
    "top_15 = chain_dff.query('name not in (\"кафе\", \"шаурма\", \"ресторан\", \"столовая\")').groupby('name')\\\n",
    "                  .agg({'district' : 'count'}).sort_values(by='district', ascending = False).head(15)\n",
    "top_15.reset_index(inplace= True)\n",
    "top_15.columns = ['name', 'count']\n",
    "fig = px.bar(top_15, x='name', y='count', title='Топ-15 популярных сетей в Москве', text='count')\n",
    "fig.update_layout(xaxis_title = 'Название заведения', yaxis_title = 'Количество заведений')\n",
    "fig.update_xaxes(tickangle=45)\n",
    "fig.show()"
   ]
  },
  {
   "cell_type": "markdown",
   "id": "9bdd2f83",
   "metadata": {},
   "source": [
    "Посмотрим к каким категориям они относятся"
   ]
  },
  {
   "cell_type": "code",
   "execution_count": null,
   "id": "0eb4b0b0",
   "metadata": {},
   "outputs": [],
   "source": [
    "top_list = top_15['name'].tolist()\n",
    "data.query('name in @top_list')['category'].unique()"
   ]
  },
  {
   "cell_type": "code",
   "execution_count": null,
   "id": "083d6b34",
   "metadata": {},
   "outputs": [],
   "source": [
    "top_15_df = data.query('name in @top_list')\n",
    "top_15_df_1 = top_15_df.groupby('category').agg({'name' : 'count'}).sort_values(by='name', ascending = False)\n",
    "top_15_df_1.reset_index(inplace= True)\n",
    "fig = px.bar(top_15_df_1, x='category', y='name', title='Заведения топ-15 сетей по категориям', text='name')\n",
    "fig.update_layout(xaxis_title = 'Категория', yaxis_title = 'Количество заведений')\n",
    "fig.update_xaxes(tickangle=45)\n",
    "fig.show()"
   ]
  },
  {
   "cell_type": "markdown",
   "id": "c6cbcef6",
   "metadata": {},
   "source": [
    "***Вывод:*** Судя по всему все сети из топ-15 объединяет наличие доставки еды. 15 популярных заведений относятся ко всем категориям, представленным в датасете. Больше всего кофеен."
   ]
  },
  {
   "cell_type": "markdown",
   "id": "dd726dc6",
   "metadata": {},
   "source": [
    "#### 3.6. Количество заведений каждой категории по административным районам."
   ]
  },
  {
   "cell_type": "code",
   "execution_count": null,
   "id": "35051a9b",
   "metadata": {},
   "outputs": [],
   "source": [
    "data['district'].value_counts()"
   ]
  },
  {
   "cell_type": "markdown",
   "id": "ae8561ac",
   "metadata": {},
   "source": [
    "В датасете представлено 9 районов. Больше всего заведений расположены в Центральном административном округе."
   ]
  },
  {
   "cell_type": "markdown",
   "id": "4924b96d",
   "metadata": {},
   "source": [
    "Посчитаем количество заведений разных категорий по округам."
   ]
  },
  {
   "cell_type": "code",
   "execution_count": null,
   "id": "04cec5e0",
   "metadata": {},
   "outputs": [],
   "source": [
    "district_df = data.pivot_table(index='district', values='name', aggfunc='count', columns='category')\n",
    "district_df.reset_index(inplace= True)\n",
    "district_df['общее'] = (district_df['бар,паб']+district_df['булочная']+district_df['быстрое питание']+district_df['кафе']\\\n",
    "                        +district_df['кофейня']+district_df['пиццерия']+district_df['ресторан']+district_df['столовая'])\n",
    "district_df"
   ]
  },
  {
   "cell_type": "markdown",
   "id": "663e3ed8",
   "metadata": {},
   "source": [
    "Построим визуализацию."
   ]
  },
  {
   "cell_type": "code",
   "execution_count": null,
   "id": "39ba16ad",
   "metadata": {},
   "outputs": [],
   "source": [
    "fig = px.bar(district_df, x=\"district\"\\\n",
    "             , y=[\"бар,паб\", \"булочная\", \"быстрое питание\", \"кафе\", \"кофейня\", \"пиццерия\", \"ресторан\", \"столовая\"]\\\n",
    "             , title=\"Категории заведений по районам\")\n",
    "fig.update_layout(xaxis_title = 'Район', yaxis_title = 'Количество заведений')\n",
    "fig.show()"
   ]
  },
  {
   "cell_type": "markdown",
   "id": "b7015997",
   "metadata": {},
   "source": [
    "***Вывод:*** В датасете представлено 9 районов. Больше всего заведений расположены в Центральном административном округе. В целом соотношение количества заведений по категориям в разных районах - равномерное."
   ]
  },
  {
   "cell_type": "markdown",
   "id": "65171cf9",
   "metadata": {},
   "source": [
    "#### 3.7. Распределение средних рейтингов по категориям заведений."
   ]
  },
  {
   "cell_type": "code",
   "execution_count": null,
   "id": "7fe3ea45",
   "metadata": {},
   "outputs": [],
   "source": [
    "plt.figure(figsize=(16, 6))\n",
    "sns.stripplot(x='category', y='rating', data=data)\n",
    "plt.title('Распределение средних рейтингов по категориям заведений')\n",
    "plt.xlabel('Категория')\n",
    "plt.ylabel('Средний рейтинг')\n",
    "plt.show()"
   ]
  },
  {
   "cell_type": "markdown",
   "id": "79168a36",
   "metadata": {},
   "source": [
    "Видим, что кафе, рестораны и заведения категории \"быстрое питание\" имеют самое неоднородное распределение по рейтингу."
   ]
  },
  {
   "cell_type": "code",
   "execution_count": null,
   "id": "f48dec16",
   "metadata": {},
   "outputs": [],
   "source": [
    "data['rating'].describe()"
   ]
  },
  {
   "cell_type": "markdown",
   "id": "f6cb832f",
   "metadata": {},
   "source": [
    "Видим, что медианное значение немного выше чем среднее. Для дальнейшего анализа расчитаем медианное значение."
   ]
  },
  {
   "cell_type": "markdown",
   "id": "751e1319",
   "metadata": {},
   "source": [
    "Построим график, рассчитывая среднее значение."
   ]
  },
  {
   "cell_type": "code",
   "execution_count": null,
   "id": "0820c298",
   "metadata": {},
   "outputs": [],
   "source": [
    "rat_1 = data.groupby('category').agg({'rating' : 'mean'}).sort_values(by='rating', ascending = False)\n",
    "rat_1.reset_index(inplace= True)\n",
    "rat_1.columns = ['category', 'mean_rating']\n",
    "rat_1['mean_rating'] = rat_1['mean_rating'].round(2) \n",
    "fig = px.bar(rat_1,x='category',y='mean_rating',text='mean_rating',\\\n",
    "             title='Усредненный (средний) рейтинг заведений по категориям',range_y=[4, 4.5]) # ограничиваем ось Y)\n",
    "fig.update_layout(xaxis_title = 'Категория', yaxis_title = 'Средний рейтинг')\n",
    "fig.update_xaxes(tickangle=45)\n",
    "fig.show() "
   ]
  },
  {
   "cell_type": "markdown",
   "id": "189779a2",
   "metadata": {},
   "source": [
    "***Вывод:*** усреднённые рейтинги в разных типах общепита немного отличаются. Лидер - бары и пабы. Худшие показатели у кафе и заведений быстрого питания."
   ]
  },
  {
   "cell_type": "markdown",
   "id": "7c4d6a7c",
   "metadata": {},
   "source": [
    "#### 3.8. Хороплет со средним рейтингом заведений каждого район."
   ]
  },
  {
   "cell_type": "markdown",
   "id": "8e372f67",
   "metadata": {},
   "source": [
    "Сначала рассчитаем средние рейтинги по округам."
   ]
  },
  {
   "cell_type": "code",
   "execution_count": null,
   "id": "fe72d800",
   "metadata": {},
   "outputs": [],
   "source": [
    "rating_df = data.groupby('district', as_index=False)['rating'].agg('mean')\n",
    "rating_df"
   ]
  },
  {
   "cell_type": "markdown",
   "id": "ec633528",
   "metadata": {},
   "source": [
    "Строим хороплет."
   ]
  },
  {
   "cell_type": "code",
   "execution_count": null,
   "id": "f00f2585",
   "metadata": {},
   "outputs": [],
   "source": [
    "\n",
    "# moscow_lat - широта центра Москвы, moscow_lng - долгота центра Москвы\n",
    "moscow_lat, moscow_lng = 55.751244, 37.618423\n",
    "\n",
    "try:\n",
    "    with open(\"C:/daqw/admin_level_geomap.geojson\", 'r', encoding='UTF-8') as f:\n",
    "        data1 = json.load(f)\n",
    "except:\n",
    "    with open('/datasets/admin_level_geomap.geojson', 'r', encoding='UTF-8') as f:\n",
    "        data1 = json.load(f)\n",
    "\n",
    "# создаём карту Москвы\n",
    "m = Map(location=[moscow_lat, moscow_lng], zoom_start=10)\n",
    "\n",
    "# создаём хороплет с помощью конструктора Choropleth и добавляем его на карту\n",
    "Choropleth(\n",
    "    geo_data=data1,\n",
    "    data=rating_df,\n",
    "    columns=['district', 'rating'],\n",
    "    key_on='feature.name',\n",
    "    fill_color='YlGn',\n",
    "    fill_opacity=0.8,\n",
    "    legend_name='Средний рейтинг заведений по районам',\n",
    ").add_to(m)\n",
    "\n",
    "# выводим карту\n",
    "m"
   ]
  },
  {
   "cell_type": "markdown",
   "id": "1fcbd8b7",
   "metadata": {},
   "source": [
    "***Вывод:*** Самые высокие рейтинги заведений, расположенных в ЦАО. Затем идет северо-восток города: САО и СЗАО. Худшие рейтинги у заведений из ЮВАО. "
   ]
  },
  {
   "cell_type": "markdown",
   "id": "cfecd72d",
   "metadata": {},
   "source": [
    "#### 3.9. Кластеризация заведений на карте."
   ]
  },
  {
   "cell_type": "code",
   "execution_count": null,
   "id": "366cfdda",
   "metadata": {},
   "outputs": [],
   "source": [
    "# moscow_lat - широта центра Москвы, moscow_lng - долгота центра Москвы\n",
    "moscow_lat, moscow_lng = 55.751244, 37.618423\n",
    "\n",
    "# создаём карту Москвы\n",
    "m = Map(location=[moscow_lat, moscow_lng], zoom_start=10)\n",
    "# создаём пустой кластер, добавляем его на карту\n",
    "marker_cluster = MarkerCluster().add_to(m)\n",
    "\n",
    "# пишем функцию, которая принимает строку датафрейма,\n",
    "# создаёт маркер в текущей точке и добавляет его в кластер marker_cluster\n",
    "def create_clusters(row):\n",
    "    Marker(\n",
    "        [row['lat'], row['lng']],\n",
    "        popup=f\"{row['name']} {row['rating']}\",\n",
    "    ).add_to(marker_cluster)\n",
    "\n",
    "# применяем функцию create_clusters() к каждой строке датафрейма\n",
    "data.apply(create_clusters, axis=1)\n",
    "\n",
    "# выводим карту\n",
    "m"
   ]
  },
  {
   "cell_type": "markdown",
   "id": "68f976a7",
   "metadata": {},
   "source": [
    "***Вывод:*** Выбор велик. Большинство заведений как и ожидалось расположено в центре."
   ]
  },
  {
   "cell_type": "markdown",
   "id": "a58736a0",
   "metadata": {},
   "source": [
    "#### 3.10. Топ-15 улиц по количеству заведений."
   ]
  },
  {
   "cell_type": "code",
   "execution_count": null,
   "id": "5c9512ed",
   "metadata": {},
   "outputs": [],
   "source": [
    "street_df = data.groupby(['street'], as_index=False)['name'].agg('count').sort_values(by='name', ascending=False).head(15)\n",
    "street_df"
   ]
  },
  {
   "cell_type": "markdown",
   "id": "76e81be2",
   "metadata": {},
   "source": [
    "В топ-15 протяженные улицы с развитой застройкой."
   ]
  },
  {
   "cell_type": "markdown",
   "id": "a6aacf41",
   "metadata": {},
   "source": [
    "Сгруппируем срез данных с топ-15 улиц по улице и категории. Затем визуализируем результат."
   ]
  },
  {
   "cell_type": "code",
   "execution_count": null,
   "id": "4d241df4",
   "metadata": {},
   "outputs": [],
   "source": [
    "top_street = street_df['street'].tolist()\n",
    "top_street_df = data.query('street in @top_street').groupby(['street', 'category'], as_index=False)['name'].agg('count')\n",
    "top_street_df.head(3)"
   ]
  },
  {
   "cell_type": "code",
   "execution_count": null,
   "id": "2d757d76",
   "metadata": {},
   "outputs": [],
   "source": [
    "fig = px.bar(top_street_df, x='street', y='name', color = 'category', barmode = 'group')\n",
    "fig.update_layout(width = 990, height = 600, title='Распределения количества заведений и их категорий по топ-15 улицам',\n",
    "                 xaxis_title = 'Улица', yaxis_title = 'Количество заведений')\n",
    "fig.update_xaxes(tickangle=45)\n",
    "fig.show()"
   ]
  },
  {
   "cell_type": "markdown",
   "id": "06e6d572",
   "metadata": {},
   "source": [
    "***Вывод:*** Больше вего кофеен на Проспекте Мира, а также на Ленинградском и Ленинском проспекте. "
   ]
  },
  {
   "cell_type": "markdown",
   "id": "e1977ca0",
   "metadata": {},
   "source": [
    "#### 3.11. Улицы с одним заведением."
   ]
  },
  {
   "cell_type": "code",
   "execution_count": null,
   "id": "a8833efb",
   "metadata": {},
   "outputs": [],
   "source": [
    "rrr = data.groupby(['street'], as_index=False)['name'].agg('count')\n",
    "sm_street = rrr.query('name == 1')\n",
    "sm_street.head(5)"
   ]
  },
  {
   "cell_type": "markdown",
   "id": "933163cd",
   "metadata": {},
   "source": [
    "457 улиц, на которых лишь одно заведение. Как правило это небольшие улочки и переулки."
   ]
  },
  {
   "cell_type": "code",
   "execution_count": null,
   "id": "3501a89d",
   "metadata": {},
   "outputs": [],
   "source": [
    "sm_street_list = sm_street['street'].tolist()\n",
    "top_street_df = data.query('street in @sm_street_list').groupby(['category'], as_index=False)['name'].agg('count')\n",
    "top_street_df.sort_values(by = 'name', ascending = False)"
   ]
  },
  {
   "cell_type": "markdown",
   "id": "11962194",
   "metadata": {},
   "source": [
    "***Вывод:*** 457 улиц, на которых лишь одно заведение. Чаще остальных этим единственным заведением является кафе."
   ]
  },
  {
   "cell_type": "markdown",
   "id": "119b68d3",
   "metadata": {},
   "source": [
    "#### 3.12. Ценовая картограмма. Влияние удалённости от центра на цены."
   ]
  },
  {
   "cell_type": "markdown",
   "id": "76d8f624",
   "metadata": {},
   "source": [
    "Сгруппируем данные по округу и расчитаем медианный средний чек."
   ]
  },
  {
   "cell_type": "code",
   "execution_count": null,
   "id": "20551b84",
   "metadata": {},
   "outputs": [],
   "source": [
    "bill_data = data.groupby('district', as_index=False)['middle_avg_bill']\\\n",
    "                .agg('median').sort_values(by='middle_avg_bill', ascending=False)\n",
    "bill_data"
   ]
  },
  {
   "cell_type": "markdown",
   "id": "ef70416b",
   "metadata": {},
   "source": [
    "Строим хороплет."
   ]
  },
  {
   "cell_type": "code",
   "execution_count": null,
   "id": "58c9bed2",
   "metadata": {
    "scrolled": false
   },
   "outputs": [],
   "source": [
    "# moscow_lat - широта центра Москвы, moscow_lng - долгота центра Москвы\n",
    "moscow_lat, moscow_lng = 55.751244, 37.618423\n",
    "\n",
    "try:\n",
    "    with open(\"C:/daqw/admin_level_geomap.geojson\", 'r', encoding='UTF-8') as f:\n",
    "        data2 = json.load(f)\n",
    "except:\n",
    "    with open('/datasets/admin_level_geomap.geojson', 'r', encoding='UTF-8') as f:\n",
    "        data2 = json.load(f)\n",
    "\n",
    "# создаём карту Москвы\n",
    "m = Map(location=[moscow_lat, moscow_lng], zoom_start=10)\n",
    "\n",
    "# создаём хороплет с помощью конструктора Choropleth и добавляем его на карту\n",
    "Choropleth(\n",
    "    geo_data=data2,\n",
    "    data=bill_data,\n",
    "    columns=['district', 'middle_avg_bill'],\n",
    "    key_on='feature.name',\n",
    "    fill_color='YlGn',\n",
    "    fill_opacity=0.8,\n",
    "    legend_name='Медианный средний чек по районам',\n",
    ").add_to(m)\n",
    "\n",
    "# выводим карту\n",
    "m"
   ]
  },
  {
   "cell_type": "markdown",
   "id": "96a6b110",
   "metadata": {},
   "source": [
    "Посмотрим на распределение средних чеков по округам."
   ]
  },
  {
   "cell_type": "code",
   "execution_count": null,
   "id": "83b97fff",
   "metadata": {},
   "outputs": [],
   "source": [
    "plt.figure(figsize=(16, 10))\n",
    "sns.stripplot(x='middle_avg_bill', y='district', data=data)\n",
    "plt.xlim(0, 8000)\n",
    "plt.title('Распределение среднего чека по районам')\n",
    "plt.xlabel('Средний чек')\n",
    "plt.ylabel('Район')\n",
    "plt.show()"
   ]
  },
  {
   "cell_type": "markdown",
   "id": "db50de71",
   "metadata": {},
   "source": [
    "***Вывод:*** Самым дорогим районом является ЦАО и ЗАО."
   ]
  },
  {
   "cell_type": "markdown",
   "id": "3673953e",
   "metadata": {},
   "source": [
    "#### 3.13.  Промежуточный вывод."
   ]
  },
  {
   "cell_type": "markdown",
   "id": "ba8e980c",
   "metadata": {},
   "source": [
    "### ***Вывод:***\n",
    "1. Кафе, рестораны и кофейни - самые популярные категории заведений. Их больше всего в Москве.\n",
    "2. Как правило больше всего посадочных мест в ресторанах, барах и кофейнях. Меньше всего в булочных, пиццериях и кафе.\n",
    "3. 61.9 % заведений - не сетевые.\n",
    "4. Чаще всего сетевыми заведениями являются кафе, рестораны и кофейни. Реже - столовые, булочные и бары.\n",
    "5. Среди самых крупных сетей Москвы много кофеен. Популярны заведения имеющие доставку.\n",
    "6. Больше всего заведений расположено в ЦАО.\n",
    "7. Усредненные рейтинги баров и пабов выше, чем у остальных заведений. Худшие показатели у кафе и заведений быстрого питания.\n",
    "8. Самые высокие рейтинги заведений, расположенных в ЦАО. Затем идет северо-восток города: САО и СЗАО. Худшие рейтинги у заведений из ЮВАО. \n",
    "9. Больше вего кофеен на Проспекте Мира, а также на Ленинградском и Ленинском проспекте.\n",
    "10. Имеется 457 улиц, на которых лишь одно заведение. Чаще остальных этим единственным заведением является кафе.\n",
    "11. Средний чек центрального округа самый высокий, что не удивительно. Не сильно по цене уступает и Западный округ. Бюджетные заведения легче встретить ЮАО, ЮВАО и СВАО."
   ]
  },
  {
   "cell_type": "markdown",
   "id": "d4edefd4",
   "metadata": {},
   "source": [
    "### 4. Открытие кофейни."
   ]
  },
  {
   "cell_type": "markdown",
   "id": "ed23fc60",
   "metadata": {},
   "source": [
    "Желание заказчика - открыть доступную, как «Central Perk», кофейню в Москве. Заказчики не боятся конкуренции в этой сфере, ведь кофеен в больших городах уже достаточно."
   ]
  },
  {
   "cell_type": "markdown",
   "id": "ed0e42e7",
   "metadata": {},
   "source": [
    "#### 4.1. Распределение кофеен по районам."
   ]
  },
  {
   "cell_type": "code",
   "execution_count": null,
   "id": "a2bd2839",
   "metadata": {
    "scrolled": true
   },
   "outputs": [],
   "source": [
    "coffee = data[data['category'] == 'кофейня']\n",
    "len(coffee['name'])"
   ]
  },
  {
   "cell_type": "markdown",
   "id": "1c73c72c",
   "metadata": {},
   "source": [
    "В датасете 1413 кофеен."
   ]
  },
  {
   "cell_type": "markdown",
   "id": "b8503b3c",
   "metadata": {},
   "source": [
    "Выведем кластеризацию кофеен по районам."
   ]
  },
  {
   "cell_type": "code",
   "execution_count": null,
   "id": "806b9ec1",
   "metadata": {},
   "outputs": [],
   "source": [
    "moscow_lat, moscow_lng = 55.751244, 37.618423\n",
    "\n",
    "# создаём карту Москвы\n",
    "m = Map(location=[moscow_lat, moscow_lng], zoom_start=10)\n",
    "# создаём пустой кластер, добавляем его на карту\n",
    "marker_cluster = MarkerCluster().add_to(m)\n",
    "\n",
    "# пишем функцию, которая принимает строку датафрейма,\n",
    "# создаёт маркер в текущей точке и добавляет его в кластер marker_cluster\n",
    "def create_clusters(row):\n",
    "    Marker(\n",
    "        [row['lat'], row['lng']],\n",
    "        popup=f\"{row['name']} {row['rating']}\",\n",
    "    ).add_to(marker_cluster)\n",
    "\n",
    "# применяем функцию create_clusters() к каждой строке датафрейма\n",
    "coffee.apply(create_clusters, axis=1)\n",
    "\n",
    "# выводим карту\n",
    "m"
   ]
  },
  {
   "cell_type": "markdown",
   "id": "ed76d590",
   "metadata": {},
   "source": [
    "***Вывод***: Больше всего кофеен в ЦАО. Меньше всего в юго-восточной части города, а также на северо-западе."
   ]
  },
  {
   "cell_type": "markdown",
   "id": "d7fffd29",
   "metadata": {},
   "source": [
    "#### 4.2. Круглосуточные кофейни."
   ]
  },
  {
   "cell_type": "code",
   "execution_count": null,
   "id": "82f8b4fa",
   "metadata": {},
   "outputs": [],
   "source": [
    "coffee_24h = coffee[coffee['is_24/7'] == True]\n",
    "len(coffee_24h)"
   ]
  },
  {
   "cell_type": "markdown",
   "id": "c0d81435",
   "metadata": {},
   "source": [
    "В москве имеется 59 круглосуточных кофейни."
   ]
  },
  {
   "cell_type": "markdown",
   "id": "0a4d81fd",
   "metadata": {},
   "source": [
    "Посмотрим их расположение на карте."
   ]
  },
  {
   "cell_type": "code",
   "execution_count": null,
   "id": "ea4d0ad7",
   "metadata": {},
   "outputs": [],
   "source": [
    "moscow_lat, moscow_lng = 55.751244, 37.618423\n",
    "\n",
    "# создаём карту Москвы\n",
    "m = Map(location=[moscow_lat, moscow_lng], zoom_start=10)\n",
    "# создаём пустой кластер, добавляем его на карту\n",
    "marker_cluster = MarkerCluster().add_to(m)\n",
    "\n",
    "# пишем функцию, которая принимает строку датафрейма,\n",
    "# создаёт маркер в текущей точке и добавляет его в кластер marker_cluster\n",
    "def create_clusters(row):\n",
    "    Marker(\n",
    "        [row['lat'], row['lng']],\n",
    "        popup=f\"{row['name']} {row['rating']}\",\n",
    "    ).add_to(marker_cluster)\n",
    "\n",
    "# применяем функцию create_clusters() к каждой строке датафрейма\n",
    "coffee_24h.apply(create_clusters, axis=1)\n",
    "\n",
    "# выводим карту\n",
    "m"
   ]
  },
  {
   "cell_type": "markdown",
   "id": "5fe8c127",
   "metadata": {},
   "source": [
    "***Вывод:*** В Москве имеется 59 круглосуточных кофейни. Большинство из них в центральной части города. Очень мало на севере и на юго востоке."
   ]
  },
  {
   "cell_type": "markdown",
   "id": "1685f04e",
   "metadata": {},
   "source": [
    "#### 4.3. Рейтинги кофеен по районам."
   ]
  },
  {
   "cell_type": "code",
   "execution_count": null,
   "id": "51b66529",
   "metadata": {},
   "outputs": [],
   "source": [
    "plt.figure(figsize=(16, 6))\n",
    "plt.title('Распределение рейтингов кофеен')\n",
    "plt.xlabel('Рейтинг')\n",
    "plt.ylabel('Количество кофеен')\n",
    "coffee['rating'].hist(bins=30)\n",
    "plt.show()"
   ]
  },
  {
   "cell_type": "markdown",
   "id": "3eb2b6dc",
   "metadata": {},
   "source": [
    "Большинство кофеен имеет рейтинг от 4 до 4,5"
   ]
  },
  {
   "cell_type": "code",
   "execution_count": null,
   "id": "2f4c9edd",
   "metadata": {},
   "outputs": [],
   "source": [
    "coffee['rating'].describe()"
   ]
  },
  {
   "cell_type": "markdown",
   "id": "c33a1dbc",
   "metadata": {},
   "source": [
    "Усредненный рейтинг кофеен ~ 4,3."
   ]
  },
  {
   "cell_type": "markdown",
   "id": "b1c7e692",
   "metadata": {},
   "source": [
    "Посмотрим на распределение кофеен по районам."
   ]
  },
  {
   "cell_type": "code",
   "execution_count": null,
   "id": "c9dd4f5f",
   "metadata": {},
   "outputs": [],
   "source": [
    "coffee_df = coffee.groupby('district').agg({'name' : 'count'}).sort_values(by='name')\n",
    "coffee_df.reset_index(inplace= True)\n",
    "coffee_df"
   ]
  },
  {
   "cell_type": "code",
   "execution_count": null,
   "id": "c719e972",
   "metadata": {},
   "outputs": [],
   "source": [
    "fig = px.bar(coffee_df, x='name', y='district', title='Количество кофеен по районам', text='name')\n",
    "fig.update_layout(xaxis_title = 'Район', yaxis_title = 'Количество заведений')\n",
    "fig.update_xaxes(tickangle=0)\n",
    "fig.show()"
   ]
  },
  {
   "cell_type": "markdown",
   "id": "d277c9d1",
   "metadata": {},
   "source": [
    "***Вывод:*** Большинство кофеен имеет рейтинг от 4 до 4,5. Усредненный рейтинг кофеен ~ 4,3. Больше всего кофеен в ЦАО - 30.3%. За исключением центральной части города, лидер - Северный административный округ (САО). Меньше всего в Северо-Западном административном округе (СЗАО) - 4.39%"
   ]
  },
  {
   "cell_type": "markdown",
   "id": "b829629b",
   "metadata": {},
   "source": [
    "#### 4.4. На какую стоимость чашки капучино стоит ориентироваться при открытии и почему?"
   ]
  },
  {
   "cell_type": "markdown",
   "id": "e2a8f01c",
   "metadata": {},
   "source": [
    "Посмотрим, как соотносится рейтинг заведения с ценой за чашку кофе."
   ]
  },
  {
   "cell_type": "code",
   "execution_count": null,
   "id": "813d733f",
   "metadata": {},
   "outputs": [],
   "source": [
    "fig = px.scatter(coffee,             # загружаем данные\n",
    "                 range_x=[0, 400], # ограничиваем ось X\n",
    "                 range_y=[3.9, 5.1], # ограничиваем ось Y\n",
    "                 x='middle_coffee_cup', # указываем столбец с данными для оси X\n",
    "                 y=\"rating\",\n",
    "                 color='district') # обозначаем категорию для разделения цветом\n",
    "# оформляем график\n",
    "fig.update_layout(title='Зависимость рейтинга кофейни от стоимости чашки капучино',\n",
    "                   xaxis_title='Стоимость чашки капучино',\n",
    "                   yaxis_title='Рейтинг кофейни')\n",
    "\n",
    "fig.show() # выводим график"
   ]
  },
  {
   "cell_type": "markdown",
   "id": "50cc0cec",
   "metadata": {},
   "source": [
    "Посчитаем среднюю цену за чашку кофе по столице."
   ]
  },
  {
   "cell_type": "code",
   "execution_count": null,
   "id": "03a89a7f",
   "metadata": {},
   "outputs": [],
   "source": [
    "print(f\"Cредняя цена за чашку кофе по столице:{round(data['middle_coffee_cup'].mean(), 0)}\")"
   ]
  },
  {
   "cell_type": "code",
   "execution_count": null,
   "id": "d9fbaed1",
   "metadata": {},
   "outputs": [],
   "source": [
    "plt.figure(figsize=(16, 6))\n",
    "plt.title('Распределение цен за чашку кофе')\n",
    "plt.xlabel('Цена')\n",
    "plt.ylabel('Количество кофеен')\n",
    "plt.xlim(0,400)\n",
    "coffee['middle_coffee_cup'].hist(bins=100)\n",
    "plt.show()"
   ]
  },
  {
   "cell_type": "markdown",
   "id": "8ae83fd5",
   "metadata": {},
   "source": [
    "***Вывод:*** 150 рублей за чашку капучино - хорошее решение при открытии кофейни. При качественном обслуживании и прочих важных для клиентов моментах, это позволит привлечь первых посетителей, удержать их и привлечь новых. Довольно часто кофейни с ценой за чашку капучино от 150 до 200 рублей имеют высокие рейтинги, начиная от 4,5."
   ]
  },
  {
   "cell_type": "markdown",
   "id": "de8ce701",
   "metadata": {},
   "source": [
    "## Финальный вывод\n",
    "\n",
    "1. Кафе, рестораны и кофейни - самые популярные категории заведений. Их больше всего в Москве.\n",
    "2. Как правило больше всего посадочных мест в ресторанах, барах и кофейнях. Меньше всего в булочных, пиццериях и кафе.\n",
    "3. 61.9 % заведений - не сетевые.\n",
    "4. Чаще всего сетевыми заведениями являются булочные, пиццерии и кофейни. Реже - кафе, столовые и бары..\n",
    "5. Среди самых крупных сетей Москвы много кофеен. Популярны заведения имеющие доставку.\n",
    "6. Больше всего заведений расположено в ЦАО.\n",
    "7. Усредненные рейтинги баров и пабов выше, чем у остальных заведений. Худшие показатели у кафе и заведений быстрого питания.\n",
    "8. Самые высокие рейтинги заведений, расположенных в ЦАО. Затем идет северо-восток города: САО и СЗАО. Худшие рейтинги у заведений из ЮВАО. \n",
    "9. Больше вего кофеен на Проспекте Мира, а также на Ленинградском и Ленинском проспекте.\n",
    "10. Имеется 457 улиц, на которых лишь одно заведение. Чаще остальных этим единственным заведением является кафе.\n",
    "11. Самым дорогим районом (по величине среднего чека) является ЦАО и ЗАО. "
   ]
  },
  {
   "cell_type": "markdown",
   "id": "cabf6987",
   "metadata": {},
   "source": [
    "### Рекомендации по месту открытия кофейни:\n",
    "\n",
    "В Москве достаточно много кофеен - это третье по популярности (количеству заведений) категория. Большая часть из этих кофеен расположена в ЦАО. В свою очередь заведения, расположенные в ЦАО имеют самые высокие в Москве показатели по величине среднего чека и рейтингу заведения. Однако, учитывая высокую конкуренцию, возможно открытие первой, еще никому ранее не известной кофейни в этом районе будет достаточно рискованным.\n",
    "\n",
    "Если не рассматривать ЦАО в качестве выбора места открытия кофейни, то следует иметь ввиду, что заведения в ЮВАО имеют худшие рейтинги относительно других округов. Картина в остальных районах достаточно одинаковая, за исключением СЗАО и в особенности САО, где рейтинги выше, относительно других районов не считая ЦАО. Также следует учесть что помимо ЦАО средний чек заведений также высок и в ЗАО. Далее идут САО и СЗАО. Худшие показатели в ЮАО, ЮВАО и СВАО.\n",
    "\n",
    "Таким образом при выборе места следует найти золотую середину в погоне за отсутствием серьезной конкуренции, показателями среднего чека и среднего рейтинга по регионам. Исходя из планов конкретного соответствующего бизнеса, будет полезно учитывть результаты данного исследования. \n",
    "\n",
    "**Предложение:**\n",
    "Учитывая, что заказчики желают открыть круглосуточную, стилизованную под антураж сериала \"Друзья\" кофейню, поклонники которого с большой долей вероятности наверняка захотят посетить хотябы раз такую кофейню - неплохим вариантом для открытия является район близ станции метро Таганская. Крупная кольцевая станция метро и оживленный район. Близость к ЦАО(с высоким средним чеком) и ЮВАО (где заведения с низким средним рейтингом). Из круглосуточных кофеен близ станции Таганской есть лишь Шоколадница, которую в свою очередб отличает высокие цены.\n",
    "При этом ориентироваться стоит на цену одной чашки кофе в диапазоне от 150 до 175 р. (что является средней ценой по Москве)."
   ]
  },
  {
   "cell_type": "markdown",
   "id": "be0dbfec",
   "metadata": {},
   "source": [
    "### 5. Материалы для коллег (презентация)."
   ]
  },
  {
   "cell_type": "markdown",
   "id": "a39ce245",
   "metadata": {},
   "source": [
    "Презентация: <https://drive.google.com/file/d/1SdcOgK1tP6CRy88UQmg5dgo-kWopOMun/view?usp=sharing>"
   ]
  }
 ],
 "metadata": {
  "ExecuteTimeLog": [
   {
    "duration": 2206,
    "start_time": "2023-05-29T18:38:22.778Z"
   },
   {
    "duration": 1578,
    "start_time": "2023-05-29T18:38:24.987Z"
   },
   {
    "duration": 251,
    "start_time": "2023-05-29T18:38:26.572Z"
   },
   {
    "duration": 140,
    "start_time": "2023-05-29T18:38:26.826Z"
   },
   {
    "duration": 0,
    "start_time": "2023-05-29T18:38:26.970Z"
   },
   {
    "duration": 0,
    "start_time": "2023-05-29T18:38:26.972Z"
   },
   {
    "duration": 0,
    "start_time": "2023-05-29T18:38:26.973Z"
   },
   {
    "duration": 0,
    "start_time": "2023-05-29T18:38:26.975Z"
   },
   {
    "duration": 0,
    "start_time": "2023-05-29T18:38:26.976Z"
   },
   {
    "duration": 0,
    "start_time": "2023-05-29T18:38:26.978Z"
   },
   {
    "duration": 0,
    "start_time": "2023-05-29T18:38:26.979Z"
   },
   {
    "duration": 0,
    "start_time": "2023-05-29T18:38:26.980Z"
   },
   {
    "duration": 0,
    "start_time": "2023-05-29T18:38:26.998Z"
   },
   {
    "duration": 0,
    "start_time": "2023-05-29T18:38:26.999Z"
   },
   {
    "duration": 0,
    "start_time": "2023-05-29T18:38:27.001Z"
   },
   {
    "duration": 0,
    "start_time": "2023-05-29T18:38:27.002Z"
   },
   {
    "duration": 0,
    "start_time": "2023-05-29T18:38:27.007Z"
   },
   {
    "duration": 1,
    "start_time": "2023-05-29T18:38:27.009Z"
   },
   {
    "duration": 0,
    "start_time": "2023-05-29T18:38:27.011Z"
   },
   {
    "duration": 0,
    "start_time": "2023-05-29T18:38:27.013Z"
   },
   {
    "duration": 0,
    "start_time": "2023-05-29T18:38:27.015Z"
   },
   {
    "duration": 0,
    "start_time": "2023-05-29T18:38:27.016Z"
   },
   {
    "duration": 0,
    "start_time": "2023-05-29T18:38:27.018Z"
   },
   {
    "duration": 0,
    "start_time": "2023-05-29T18:38:27.020Z"
   },
   {
    "duration": 0,
    "start_time": "2023-05-29T18:38:27.021Z"
   },
   {
    "duration": 0,
    "start_time": "2023-05-29T18:38:27.022Z"
   },
   {
    "duration": 0,
    "start_time": "2023-05-29T18:38:27.024Z"
   },
   {
    "duration": 0,
    "start_time": "2023-05-29T18:38:27.025Z"
   },
   {
    "duration": 0,
    "start_time": "2023-05-29T18:38:27.027Z"
   },
   {
    "duration": 0,
    "start_time": "2023-05-29T18:38:27.028Z"
   },
   {
    "duration": 0,
    "start_time": "2023-05-29T18:38:27.030Z"
   },
   {
    "duration": 0,
    "start_time": "2023-05-29T18:38:27.032Z"
   },
   {
    "duration": 0,
    "start_time": "2023-05-29T18:38:27.033Z"
   },
   {
    "duration": 0,
    "start_time": "2023-05-29T18:38:27.035Z"
   },
   {
    "duration": 0,
    "start_time": "2023-05-29T18:38:27.037Z"
   },
   {
    "duration": 1,
    "start_time": "2023-05-29T18:38:27.096Z"
   },
   {
    "duration": 0,
    "start_time": "2023-05-29T18:38:27.099Z"
   },
   {
    "duration": 0,
    "start_time": "2023-05-29T18:38:27.100Z"
   },
   {
    "duration": 0,
    "start_time": "2023-05-29T18:38:27.102Z"
   },
   {
    "duration": 0,
    "start_time": "2023-05-29T18:38:27.104Z"
   },
   {
    "duration": 0,
    "start_time": "2023-05-29T18:38:27.105Z"
   },
   {
    "duration": 0,
    "start_time": "2023-05-29T18:38:27.106Z"
   },
   {
    "duration": 0,
    "start_time": "2023-05-29T18:38:27.108Z"
   },
   {
    "duration": 0,
    "start_time": "2023-05-29T18:38:27.110Z"
   },
   {
    "duration": 0,
    "start_time": "2023-05-29T18:38:27.111Z"
   },
   {
    "duration": 0,
    "start_time": "2023-05-29T18:38:27.113Z"
   },
   {
    "duration": 0,
    "start_time": "2023-05-29T18:38:27.115Z"
   },
   {
    "duration": 0,
    "start_time": "2023-05-29T18:38:27.116Z"
   },
   {
    "duration": 0,
    "start_time": "2023-05-29T18:38:27.119Z"
   },
   {
    "duration": 0,
    "start_time": "2023-05-29T18:38:27.120Z"
   },
   {
    "duration": 0,
    "start_time": "2023-05-29T18:38:27.122Z"
   },
   {
    "duration": 0,
    "start_time": "2023-05-29T18:38:27.123Z"
   },
   {
    "duration": 0,
    "start_time": "2023-05-29T18:38:27.125Z"
   },
   {
    "duration": 0,
    "start_time": "2023-05-29T18:38:27.127Z"
   },
   {
    "duration": 0,
    "start_time": "2023-05-29T18:38:27.128Z"
   },
   {
    "duration": 0,
    "start_time": "2023-05-29T18:38:27.129Z"
   },
   {
    "duration": 0,
    "start_time": "2023-05-29T18:38:27.131Z"
   },
   {
    "duration": 0,
    "start_time": "2023-05-29T18:38:27.132Z"
   },
   {
    "duration": 0,
    "start_time": "2023-05-29T18:38:27.134Z"
   },
   {
    "duration": 0,
    "start_time": "2023-05-29T18:38:27.197Z"
   },
   {
    "duration": 0,
    "start_time": "2023-05-29T18:38:27.199Z"
   },
   {
    "duration": 2324,
    "start_time": "2023-05-29T18:38:27.327Z"
   },
   {
    "duration": 5,
    "start_time": "2023-05-29T18:38:29.655Z"
   },
   {
    "duration": 232,
    "start_time": "2023-05-29T18:38:29.662Z"
   },
   {
    "duration": 15,
    "start_time": "2023-05-29T18:38:29.895Z"
   },
   {
    "duration": 0,
    "start_time": "2023-05-29T18:38:29.914Z"
   },
   {
    "duration": 0,
    "start_time": "2023-05-29T18:38:29.915Z"
   },
   {
    "duration": 0,
    "start_time": "2023-05-29T18:38:29.917Z"
   },
   {
    "duration": 0,
    "start_time": "2023-05-29T18:38:29.918Z"
   },
   {
    "duration": 0,
    "start_time": "2023-05-29T18:38:29.921Z"
   },
   {
    "duration": 0,
    "start_time": "2023-05-29T18:38:29.922Z"
   },
   {
    "duration": 0,
    "start_time": "2023-05-29T18:38:29.923Z"
   },
   {
    "duration": 0,
    "start_time": "2023-05-29T18:38:29.925Z"
   },
   {
    "duration": 0,
    "start_time": "2023-05-29T18:38:29.926Z"
   },
   {
    "duration": 0,
    "start_time": "2023-05-29T18:38:29.927Z"
   },
   {
    "duration": 0,
    "start_time": "2023-05-29T18:38:29.928Z"
   },
   {
    "duration": 0,
    "start_time": "2023-05-29T18:38:29.929Z"
   },
   {
    "duration": 0,
    "start_time": "2023-05-29T18:38:29.929Z"
   },
   {
    "duration": 0,
    "start_time": "2023-05-29T18:38:29.931Z"
   },
   {
    "duration": 0,
    "start_time": "2023-05-29T18:38:29.932Z"
   },
   {
    "duration": 0,
    "start_time": "2023-05-29T18:38:29.933Z"
   },
   {
    "duration": 0,
    "start_time": "2023-05-29T18:38:29.934Z"
   },
   {
    "duration": 0,
    "start_time": "2023-05-29T18:38:29.935Z"
   },
   {
    "duration": 0,
    "start_time": "2023-05-29T18:38:29.936Z"
   },
   {
    "duration": 0,
    "start_time": "2023-05-29T18:38:29.937Z"
   },
   {
    "duration": 0,
    "start_time": "2023-05-29T18:38:29.939Z"
   },
   {
    "duration": 0,
    "start_time": "2023-05-29T18:38:29.940Z"
   },
   {
    "duration": 0,
    "start_time": "2023-05-29T18:38:29.941Z"
   },
   {
    "duration": 0,
    "start_time": "2023-05-29T18:38:29.943Z"
   },
   {
    "duration": 0,
    "start_time": "2023-05-29T18:38:29.945Z"
   },
   {
    "duration": 0,
    "start_time": "2023-05-29T18:38:29.947Z"
   },
   {
    "duration": 0,
    "start_time": "2023-05-29T18:38:29.998Z"
   },
   {
    "duration": 0,
    "start_time": "2023-05-29T18:38:29.999Z"
   },
   {
    "duration": 0,
    "start_time": "2023-05-29T18:38:30.001Z"
   },
   {
    "duration": 0,
    "start_time": "2023-05-29T18:38:30.002Z"
   },
   {
    "duration": 0,
    "start_time": "2023-05-29T18:38:30.004Z"
   },
   {
    "duration": 0,
    "start_time": "2023-05-29T18:38:30.006Z"
   },
   {
    "duration": 0,
    "start_time": "2023-05-29T18:38:30.007Z"
   },
   {
    "duration": 0,
    "start_time": "2023-05-29T18:38:30.009Z"
   },
   {
    "duration": 0,
    "start_time": "2023-05-29T18:38:30.009Z"
   },
   {
    "duration": 0,
    "start_time": "2023-05-29T18:38:30.011Z"
   },
   {
    "duration": 0,
    "start_time": "2023-05-29T18:38:30.012Z"
   },
   {
    "duration": 0,
    "start_time": "2023-05-29T18:38:30.013Z"
   },
   {
    "duration": 0,
    "start_time": "2023-05-29T18:38:30.014Z"
   },
   {
    "duration": 0,
    "start_time": "2023-05-29T18:38:30.015Z"
   },
   {
    "duration": 0,
    "start_time": "2023-05-29T18:38:30.016Z"
   },
   {
    "duration": 0,
    "start_time": "2023-05-29T18:38:30.017Z"
   },
   {
    "duration": 0,
    "start_time": "2023-05-29T18:38:30.018Z"
   },
   {
    "duration": 0,
    "start_time": "2023-05-29T18:38:30.020Z"
   },
   {
    "duration": 0,
    "start_time": "2023-05-29T18:38:30.021Z"
   },
   {
    "duration": 0,
    "start_time": "2023-05-29T18:38:30.022Z"
   },
   {
    "duration": 0,
    "start_time": "2023-05-29T18:38:30.023Z"
   },
   {
    "duration": 0,
    "start_time": "2023-05-29T18:38:30.024Z"
   },
   {
    "duration": 0,
    "start_time": "2023-05-29T18:38:30.025Z"
   },
   {
    "duration": 0,
    "start_time": "2023-05-29T18:38:30.027Z"
   },
   {
    "duration": 0,
    "start_time": "2023-05-29T18:38:30.028Z"
   },
   {
    "duration": 0,
    "start_time": "2023-05-29T18:38:30.029Z"
   },
   {
    "duration": 0,
    "start_time": "2023-05-29T18:38:30.030Z"
   },
   {
    "duration": 0,
    "start_time": "2023-05-29T18:38:30.031Z"
   },
   {
    "duration": 0,
    "start_time": "2023-05-29T18:38:30.097Z"
   },
   {
    "duration": 0,
    "start_time": "2023-05-29T18:38:30.098Z"
   },
   {
    "duration": 0,
    "start_time": "2023-05-29T18:38:30.100Z"
   },
   {
    "duration": 226,
    "start_time": "2023-05-29T18:38:45.095Z"
   },
   {
    "duration": 27,
    "start_time": "2023-05-29T18:38:47.023Z"
   },
   {
    "duration": 2087,
    "start_time": "2023-05-29T18:38:52.336Z"
   },
   {
    "duration": 1450,
    "start_time": "2023-05-29T18:38:54.426Z"
   },
   {
    "duration": 198,
    "start_time": "2023-05-29T18:38:55.877Z"
   },
   {
    "duration": 21,
    "start_time": "2023-05-29T18:38:56.078Z"
   },
   {
    "duration": 40,
    "start_time": "2023-05-29T18:38:56.101Z"
   },
   {
    "duration": 53,
    "start_time": "2023-05-29T18:38:56.143Z"
   },
   {
    "duration": 29,
    "start_time": "2023-05-29T18:38:56.197Z"
   },
   {
    "duration": 62,
    "start_time": "2023-05-29T18:38:56.227Z"
   },
   {
    "duration": 10,
    "start_time": "2023-05-29T18:38:56.291Z"
   },
   {
    "duration": 44,
    "start_time": "2023-05-29T18:38:56.305Z"
   },
   {
    "duration": 34,
    "start_time": "2023-05-29T18:38:56.351Z"
   },
   {
    "duration": 52,
    "start_time": "2023-05-29T18:38:56.387Z"
   },
   {
    "duration": 46,
    "start_time": "2023-05-29T18:38:56.440Z"
   },
   {
    "duration": 41,
    "start_time": "2023-05-29T18:38:56.488Z"
   },
   {
    "duration": 27,
    "start_time": "2023-05-29T18:38:56.531Z"
   },
   {
    "duration": 45,
    "start_time": "2023-05-29T18:38:56.560Z"
   },
   {
    "duration": 10,
    "start_time": "2023-05-29T18:38:56.606Z"
   },
   {
    "duration": 5,
    "start_time": "2023-05-29T18:38:56.618Z"
   },
   {
    "duration": 29,
    "start_time": "2023-05-29T18:38:56.625Z"
   },
   {
    "duration": 17,
    "start_time": "2023-05-29T18:38:56.656Z"
   },
   {
    "duration": 152,
    "start_time": "2023-05-29T18:38:56.675Z"
   },
   {
    "duration": 0,
    "start_time": "2023-05-29T18:38:56.830Z"
   },
   {
    "duration": 0,
    "start_time": "2023-05-29T18:38:56.832Z"
   },
   {
    "duration": 0,
    "start_time": "2023-05-29T18:38:56.833Z"
   },
   {
    "duration": 0,
    "start_time": "2023-05-29T18:38:56.834Z"
   },
   {
    "duration": 0,
    "start_time": "2023-05-29T18:38:56.835Z"
   },
   {
    "duration": 0,
    "start_time": "2023-05-29T18:38:56.837Z"
   },
   {
    "duration": 0,
    "start_time": "2023-05-29T18:38:56.838Z"
   },
   {
    "duration": 0,
    "start_time": "2023-05-29T18:38:56.839Z"
   },
   {
    "duration": 0,
    "start_time": "2023-05-29T18:38:56.841Z"
   },
   {
    "duration": 0,
    "start_time": "2023-05-29T18:38:56.842Z"
   },
   {
    "duration": 0,
    "start_time": "2023-05-29T18:38:56.843Z"
   },
   {
    "duration": 0,
    "start_time": "2023-05-29T18:38:56.844Z"
   },
   {
    "duration": 0,
    "start_time": "2023-05-29T18:38:56.845Z"
   },
   {
    "duration": 0,
    "start_time": "2023-05-29T18:38:56.847Z"
   },
   {
    "duration": 0,
    "start_time": "2023-05-29T18:38:56.848Z"
   },
   {
    "duration": 0,
    "start_time": "2023-05-29T18:38:56.849Z"
   },
   {
    "duration": 0,
    "start_time": "2023-05-29T18:38:56.851Z"
   },
   {
    "duration": 0,
    "start_time": "2023-05-29T18:38:56.852Z"
   },
   {
    "duration": 0,
    "start_time": "2023-05-29T18:38:56.854Z"
   },
   {
    "duration": 0,
    "start_time": "2023-05-29T18:38:56.855Z"
   },
   {
    "duration": 0,
    "start_time": "2023-05-29T18:38:56.899Z"
   },
   {
    "duration": 0,
    "start_time": "2023-05-29T18:38:56.900Z"
   },
   {
    "duration": 0,
    "start_time": "2023-05-29T18:38:56.902Z"
   },
   {
    "duration": 0,
    "start_time": "2023-05-29T18:38:56.903Z"
   },
   {
    "duration": 0,
    "start_time": "2023-05-29T18:38:56.904Z"
   },
   {
    "duration": 0,
    "start_time": "2023-05-29T18:38:56.905Z"
   },
   {
    "duration": 0,
    "start_time": "2023-05-29T18:38:56.905Z"
   },
   {
    "duration": 0,
    "start_time": "2023-05-29T18:38:56.906Z"
   },
   {
    "duration": 0,
    "start_time": "2023-05-29T18:38:56.907Z"
   },
   {
    "duration": 0,
    "start_time": "2023-05-29T18:38:56.908Z"
   },
   {
    "duration": 0,
    "start_time": "2023-05-29T18:38:56.909Z"
   },
   {
    "duration": 0,
    "start_time": "2023-05-29T18:38:56.911Z"
   },
   {
    "duration": 0,
    "start_time": "2023-05-29T18:38:56.912Z"
   },
   {
    "duration": 0,
    "start_time": "2023-05-29T18:38:56.914Z"
   },
   {
    "duration": 0,
    "start_time": "2023-05-29T18:38:56.915Z"
   },
   {
    "duration": 0,
    "start_time": "2023-05-29T18:38:56.917Z"
   },
   {
    "duration": 0,
    "start_time": "2023-05-29T18:38:56.918Z"
   },
   {
    "duration": 0,
    "start_time": "2023-05-29T18:38:56.919Z"
   },
   {
    "duration": 0,
    "start_time": "2023-05-29T18:38:56.921Z"
   },
   {
    "duration": 0,
    "start_time": "2023-05-29T18:38:56.922Z"
   },
   {
    "duration": 2517,
    "start_time": "2023-05-29T18:45:12.905Z"
   },
   {
    "duration": 1819,
    "start_time": "2023-05-29T18:45:15.425Z"
   },
   {
    "duration": 249,
    "start_time": "2023-05-29T18:45:17.246Z"
   },
   {
    "duration": 21,
    "start_time": "2023-05-29T18:45:17.497Z"
   },
   {
    "duration": 15,
    "start_time": "2023-05-29T18:45:17.520Z"
   },
   {
    "duration": 17,
    "start_time": "2023-05-29T18:45:17.557Z"
   },
   {
    "duration": 21,
    "start_time": "2023-05-29T18:45:17.576Z"
   },
   {
    "duration": 32,
    "start_time": "2023-05-29T18:45:17.598Z"
   },
   {
    "duration": 30,
    "start_time": "2023-05-29T18:45:17.632Z"
   },
   {
    "duration": 13,
    "start_time": "2023-05-29T18:45:17.665Z"
   },
   {
    "duration": 14,
    "start_time": "2023-05-29T18:45:17.680Z"
   },
   {
    "duration": 14,
    "start_time": "2023-05-29T18:45:17.697Z"
   },
   {
    "duration": 3,
    "start_time": "2023-05-29T18:45:17.713Z"
   },
   {
    "duration": 42,
    "start_time": "2023-05-29T18:45:17.719Z"
   },
   {
    "duration": 16,
    "start_time": "2023-05-29T18:45:17.763Z"
   },
   {
    "duration": 15,
    "start_time": "2023-05-29T18:45:17.781Z"
   },
   {
    "duration": 9,
    "start_time": "2023-05-29T18:45:17.798Z"
   },
   {
    "duration": 5,
    "start_time": "2023-05-29T18:45:17.809Z"
   },
   {
    "duration": 24,
    "start_time": "2023-05-29T18:45:17.816Z"
   },
   {
    "duration": 17,
    "start_time": "2023-05-29T18:45:17.842Z"
   },
   {
    "duration": 123,
    "start_time": "2023-05-29T18:45:17.861Z"
   },
   {
    "duration": 0,
    "start_time": "2023-05-29T18:45:17.987Z"
   },
   {
    "duration": 0,
    "start_time": "2023-05-29T18:45:17.988Z"
   },
   {
    "duration": 0,
    "start_time": "2023-05-29T18:45:17.989Z"
   },
   {
    "duration": 0,
    "start_time": "2023-05-29T18:45:17.990Z"
   },
   {
    "duration": 0,
    "start_time": "2023-05-29T18:45:17.991Z"
   },
   {
    "duration": 0,
    "start_time": "2023-05-29T18:45:17.992Z"
   },
   {
    "duration": 0,
    "start_time": "2023-05-29T18:45:17.993Z"
   },
   {
    "duration": 0,
    "start_time": "2023-05-29T18:45:17.994Z"
   },
   {
    "duration": 0,
    "start_time": "2023-05-29T18:45:17.995Z"
   },
   {
    "duration": 0,
    "start_time": "2023-05-29T18:45:17.996Z"
   },
   {
    "duration": 0,
    "start_time": "2023-05-29T18:45:17.997Z"
   },
   {
    "duration": 0,
    "start_time": "2023-05-29T18:45:17.998Z"
   },
   {
    "duration": 0,
    "start_time": "2023-05-29T18:45:18.000Z"
   },
   {
    "duration": 0,
    "start_time": "2023-05-29T18:45:18.001Z"
   },
   {
    "duration": 0,
    "start_time": "2023-05-29T18:45:18.002Z"
   },
   {
    "duration": 0,
    "start_time": "2023-05-29T18:45:18.003Z"
   },
   {
    "duration": 0,
    "start_time": "2023-05-29T18:45:18.004Z"
   },
   {
    "duration": 0,
    "start_time": "2023-05-29T18:45:18.005Z"
   },
   {
    "duration": 0,
    "start_time": "2023-05-29T18:45:18.006Z"
   },
   {
    "duration": 0,
    "start_time": "2023-05-29T18:45:18.007Z"
   },
   {
    "duration": 0,
    "start_time": "2023-05-29T18:45:18.009Z"
   },
   {
    "duration": 0,
    "start_time": "2023-05-29T18:45:18.010Z"
   },
   {
    "duration": 0,
    "start_time": "2023-05-29T18:45:18.010Z"
   },
   {
    "duration": 0,
    "start_time": "2023-05-29T18:45:18.056Z"
   },
   {
    "duration": 0,
    "start_time": "2023-05-29T18:45:18.058Z"
   },
   {
    "duration": 0,
    "start_time": "2023-05-29T18:45:18.059Z"
   },
   {
    "duration": 0,
    "start_time": "2023-05-29T18:45:18.060Z"
   },
   {
    "duration": 0,
    "start_time": "2023-05-29T18:45:18.061Z"
   },
   {
    "duration": 0,
    "start_time": "2023-05-29T18:45:18.062Z"
   },
   {
    "duration": 0,
    "start_time": "2023-05-29T18:45:18.063Z"
   },
   {
    "duration": 0,
    "start_time": "2023-05-29T18:45:18.064Z"
   },
   {
    "duration": 0,
    "start_time": "2023-05-29T18:45:18.066Z"
   },
   {
    "duration": 0,
    "start_time": "2023-05-29T18:45:18.067Z"
   },
   {
    "duration": 0,
    "start_time": "2023-05-29T18:45:18.068Z"
   },
   {
    "duration": 0,
    "start_time": "2023-05-29T18:45:18.069Z"
   },
   {
    "duration": 0,
    "start_time": "2023-05-29T18:45:18.070Z"
   },
   {
    "duration": 0,
    "start_time": "2023-05-29T18:45:18.071Z"
   },
   {
    "duration": 0,
    "start_time": "2023-05-29T18:45:18.072Z"
   },
   {
    "duration": 0,
    "start_time": "2023-05-29T18:45:18.072Z"
   },
   {
    "duration": 0,
    "start_time": "2023-05-29T18:45:18.074Z"
   },
   {
    "duration": 2184,
    "start_time": "2023-05-29T18:46:00.228Z"
   },
   {
    "duration": 1529,
    "start_time": "2023-05-29T18:46:02.417Z"
   },
   {
    "duration": 203,
    "start_time": "2023-05-29T18:46:03.948Z"
   },
   {
    "duration": 19,
    "start_time": "2023-05-29T18:46:04.152Z"
   },
   {
    "duration": 16,
    "start_time": "2023-05-29T18:46:04.173Z"
   },
   {
    "duration": 19,
    "start_time": "2023-05-29T18:46:04.191Z"
   },
   {
    "duration": 52,
    "start_time": "2023-05-29T18:46:04.212Z"
   },
   {
    "duration": 23,
    "start_time": "2023-05-29T18:46:04.266Z"
   },
   {
    "duration": 8,
    "start_time": "2023-05-29T18:46:04.291Z"
   },
   {
    "duration": 14,
    "start_time": "2023-05-29T18:46:04.301Z"
   },
   {
    "duration": 14,
    "start_time": "2023-05-29T18:46:04.317Z"
   },
   {
    "duration": 9,
    "start_time": "2023-05-29T18:46:04.357Z"
   },
   {
    "duration": 5,
    "start_time": "2023-05-29T18:46:04.368Z"
   },
   {
    "duration": 9,
    "start_time": "2023-05-29T18:46:04.377Z"
   },
   {
    "duration": 11,
    "start_time": "2023-05-29T18:46:04.387Z"
   },
   {
    "duration": 26,
    "start_time": "2023-05-29T18:46:04.400Z"
   },
   {
    "duration": 30,
    "start_time": "2023-05-29T18:46:04.428Z"
   },
   {
    "duration": 8,
    "start_time": "2023-05-29T18:46:04.460Z"
   },
   {
    "duration": 30,
    "start_time": "2023-05-29T18:46:04.470Z"
   },
   {
    "duration": 14,
    "start_time": "2023-05-29T18:46:04.502Z"
   },
   {
    "duration": 519,
    "start_time": "2023-05-29T18:46:04.518Z"
   },
   {
    "duration": 17,
    "start_time": "2023-05-29T18:46:05.040Z"
   },
   {
    "duration": 112,
    "start_time": "2023-05-29T18:46:05.059Z"
   },
   {
    "duration": 293,
    "start_time": "2023-05-29T18:46:05.173Z"
   },
   {
    "duration": 20,
    "start_time": "2023-05-29T18:46:05.468Z"
   },
   {
    "duration": 21,
    "start_time": "2023-05-29T18:46:05.490Z"
   },
   {
    "duration": 19,
    "start_time": "2023-05-29T18:46:05.513Z"
   },
   {
    "duration": 75,
    "start_time": "2023-05-29T18:46:05.534Z"
   },
   {
    "duration": 17,
    "start_time": "2023-05-29T18:46:05.611Z"
   },
   {
    "duration": 79,
    "start_time": "2023-05-29T18:46:05.630Z"
   },
   {
    "duration": 10,
    "start_time": "2023-05-29T18:46:05.711Z"
   },
   {
    "duration": 72,
    "start_time": "2023-05-29T18:46:05.722Z"
   },
   {
    "duration": 6,
    "start_time": "2023-05-29T18:46:05.796Z"
   },
   {
    "duration": 38,
    "start_time": "2023-05-29T18:46:05.804Z"
   },
   {
    "duration": 89,
    "start_time": "2023-05-29T18:46:05.844Z"
   },
   {
    "duration": 286,
    "start_time": "2023-05-29T18:46:05.935Z"
   },
   {
    "duration": 9,
    "start_time": "2023-05-29T18:46:06.223Z"
   },
   {
    "duration": 78,
    "start_time": "2023-05-29T18:46:06.233Z"
   },
   {
    "duration": 74,
    "start_time": "2023-05-29T18:46:06.313Z"
   },
   {
    "duration": 12,
    "start_time": "2023-05-29T18:46:06.389Z"
   },
   {
    "duration": 336,
    "start_time": "2023-05-29T18:46:06.406Z"
   },
   {
    "duration": 10289,
    "start_time": "2023-05-29T18:46:06.744Z"
   },
   {
    "duration": 33,
    "start_time": "2023-05-29T18:46:17.035Z"
   },
   {
    "duration": 23,
    "start_time": "2023-05-29T18:46:17.070Z"
   },
   {
    "duration": 187,
    "start_time": "2023-05-29T18:46:17.094Z"
   },
   {
    "duration": 77,
    "start_time": "2023-05-29T18:46:17.283Z"
   },
   {
    "duration": 18,
    "start_time": "2023-05-29T18:46:17.363Z"
   },
   {
    "duration": 20,
    "start_time": "2023-05-29T18:46:17.382Z"
   },
   {
    "duration": 206,
    "start_time": "2023-05-29T18:46:17.405Z"
   },
   {
    "duration": 340,
    "start_time": "2023-05-29T18:46:17.613Z"
   },
   {
    "duration": 8,
    "start_time": "2023-05-29T18:46:17.957Z"
   },
   {
    "duration": 12,
    "start_time": "2023-05-29T18:46:17.967Z"
   },
   {
    "duration": 1948,
    "start_time": "2023-05-29T18:46:17.981Z"
   },
   {
    "duration": 7,
    "start_time": "2023-05-29T18:46:19.932Z"
   },
   {
    "duration": 131,
    "start_time": "2023-05-29T18:46:19.940Z"
   },
   {
    "duration": 234,
    "start_time": "2023-05-29T18:46:20.073Z"
   },
   {
    "duration": 10,
    "start_time": "2023-05-29T18:46:20.310Z"
   },
   {
    "duration": 34,
    "start_time": "2023-05-29T18:46:20.322Z"
   },
   {
    "duration": 122,
    "start_time": "2023-05-29T18:46:20.358Z"
   },
   {
    "duration": 305,
    "start_time": "2023-05-29T18:46:20.483Z"
   },
   {
    "duration": 1904,
    "start_time": "2023-05-29T21:02:32.078Z"
   },
   {
    "duration": 255,
    "start_time": "2023-05-29T21:02:33.984Z"
   },
   {
    "duration": 19,
    "start_time": "2023-05-29T21:02:34.242Z"
   },
   {
    "duration": 12,
    "start_time": "2023-05-29T21:02:34.263Z"
   },
   {
    "duration": 37,
    "start_time": "2023-05-29T21:02:34.277Z"
   },
   {
    "duration": 25,
    "start_time": "2023-05-29T21:02:34.321Z"
   },
   {
    "duration": 20,
    "start_time": "2023-05-29T21:02:34.348Z"
   },
   {
    "duration": 8,
    "start_time": "2023-05-29T21:02:34.369Z"
   },
   {
    "duration": 18,
    "start_time": "2023-05-29T21:02:34.378Z"
   },
   {
    "duration": 49,
    "start_time": "2023-05-29T21:02:34.408Z"
   },
   {
    "duration": 24,
    "start_time": "2023-05-29T21:02:34.459Z"
   },
   {
    "duration": 7,
    "start_time": "2023-05-29T21:02:34.485Z"
   },
   {
    "duration": 46,
    "start_time": "2023-05-29T21:02:34.494Z"
   },
   {
    "duration": 7,
    "start_time": "2023-05-29T21:02:34.545Z"
   },
   {
    "duration": 14,
    "start_time": "2023-05-29T21:02:34.554Z"
   },
   {
    "duration": 11,
    "start_time": "2023-05-29T21:02:34.570Z"
   },
   {
    "duration": 8,
    "start_time": "2023-05-29T21:02:34.582Z"
   },
   {
    "duration": 12,
    "start_time": "2023-05-29T21:02:34.591Z"
   },
   {
    "duration": 36,
    "start_time": "2023-05-29T21:02:34.611Z"
   },
   {
    "duration": 3101,
    "start_time": "2023-05-29T21:02:34.649Z"
   },
   {
    "duration": 8,
    "start_time": "2023-05-29T21:02:37.751Z"
   },
   {
    "duration": 139,
    "start_time": "2023-05-29T21:02:37.760Z"
   },
   {
    "duration": 308,
    "start_time": "2023-05-29T21:02:37.900Z"
   },
   {
    "duration": 20,
    "start_time": "2023-05-29T21:02:38.211Z"
   },
   {
    "duration": 13,
    "start_time": "2023-05-29T21:02:38.233Z"
   },
   {
    "duration": 23,
    "start_time": "2023-05-29T21:02:38.248Z"
   },
   {
    "duration": 63,
    "start_time": "2023-05-29T21:02:38.273Z"
   },
   {
    "duration": 17,
    "start_time": "2023-05-29T21:02:38.342Z"
   },
   {
    "duration": 86,
    "start_time": "2023-05-29T21:02:38.361Z"
   },
   {
    "duration": 8,
    "start_time": "2023-05-29T21:02:38.448Z"
   },
   {
    "duration": 84,
    "start_time": "2023-05-29T21:02:38.457Z"
   },
   {
    "duration": 6,
    "start_time": "2023-05-29T21:02:38.542Z"
   },
   {
    "duration": 23,
    "start_time": "2023-05-29T21:02:38.550Z"
   },
   {
    "duration": 115,
    "start_time": "2023-05-29T21:02:38.575Z"
   },
   {
    "duration": 289,
    "start_time": "2023-05-29T21:02:38.692Z"
   },
   {
    "duration": 22,
    "start_time": "2023-05-29T21:02:38.983Z"
   },
   {
    "duration": 133,
    "start_time": "2023-05-29T21:02:39.007Z"
   },
   {
    "duration": 46,
    "start_time": "2023-05-29T21:02:39.145Z"
   },
   {
    "duration": 24,
    "start_time": "2023-05-29T21:02:39.193Z"
   },
   {
    "duration": 266,
    "start_time": "2023-05-29T21:02:39.224Z"
   },
   {
    "duration": 10395,
    "start_time": "2023-05-29T21:02:39.494Z"
   },
   {
    "duration": 33,
    "start_time": "2023-05-29T21:02:49.890Z"
   },
   {
    "duration": 42,
    "start_time": "2023-05-29T21:02:49.924Z"
   },
   {
    "duration": 183,
    "start_time": "2023-05-29T21:02:49.968Z"
   },
   {
    "duration": 27,
    "start_time": "2023-05-29T21:02:50.196Z"
   },
   {
    "duration": 39,
    "start_time": "2023-05-29T21:02:50.226Z"
   },
   {
    "duration": 13,
    "start_time": "2023-05-29T21:02:50.267Z"
   },
   {
    "duration": 207,
    "start_time": "2023-05-29T21:02:50.281Z"
   },
   {
    "duration": 327,
    "start_time": "2023-05-29T21:02:50.489Z"
   },
   {
    "duration": 9,
    "start_time": "2023-05-29T21:02:50.824Z"
   },
   {
    "duration": 56,
    "start_time": "2023-05-29T21:02:50.834Z"
   },
   {
    "duration": 1857,
    "start_time": "2023-05-29T21:02:50.892Z"
   },
   {
    "duration": 5,
    "start_time": "2023-05-29T21:02:52.750Z"
   },
   {
    "duration": 107,
    "start_time": "2023-05-29T21:02:52.757Z"
   },
   {
    "duration": 222,
    "start_time": "2023-05-29T21:02:52.865Z"
   },
   {
    "duration": 19,
    "start_time": "2023-05-29T21:02:53.088Z"
   },
   {
    "duration": 39,
    "start_time": "2023-05-29T21:02:53.109Z"
   },
   {
    "duration": 148,
    "start_time": "2023-05-29T21:02:53.150Z"
   },
   {
    "duration": 290,
    "start_time": "2023-05-29T21:02:53.300Z"
   },
   {
    "duration": 1888,
    "start_time": "2023-05-30T12:29:44.205Z"
   },
   {
    "duration": 305,
    "start_time": "2023-05-30T12:29:46.095Z"
   },
   {
    "duration": 20,
    "start_time": "2023-05-30T12:29:46.401Z"
   },
   {
    "duration": 12,
    "start_time": "2023-05-30T12:29:46.423Z"
   },
   {
    "duration": 15,
    "start_time": "2023-05-30T12:29:46.436Z"
   },
   {
    "duration": 18,
    "start_time": "2023-05-30T12:29:46.452Z"
   },
   {
    "duration": 46,
    "start_time": "2023-05-30T12:29:46.471Z"
   },
   {
    "duration": 7,
    "start_time": "2023-05-30T12:29:46.519Z"
   },
   {
    "duration": 10,
    "start_time": "2023-05-30T12:29:46.528Z"
   },
   {
    "duration": 6,
    "start_time": "2023-05-30T12:29:46.540Z"
   },
   {
    "duration": 9,
    "start_time": "2023-05-30T12:29:46.547Z"
   },
   {
    "duration": 8,
    "start_time": "2023-05-30T12:29:46.558Z"
   },
   {
    "duration": 10,
    "start_time": "2023-05-30T12:29:46.567Z"
   },
   {
    "duration": 9,
    "start_time": "2023-05-30T12:29:46.579Z"
   },
   {
    "duration": 36,
    "start_time": "2023-05-30T12:29:46.589Z"
   },
   {
    "duration": 9,
    "start_time": "2023-05-30T12:29:46.626Z"
   },
   {
    "duration": 8,
    "start_time": "2023-05-30T12:29:46.636Z"
   },
   {
    "duration": 6,
    "start_time": "2023-05-30T12:29:46.646Z"
   },
   {
    "duration": 8,
    "start_time": "2023-05-30T12:29:46.653Z"
   },
   {
    "duration": 14,
    "start_time": "2023-05-30T12:29:46.663Z"
   },
   {
    "duration": 15,
    "start_time": "2023-05-30T12:29:46.678Z"
   },
   {
    "duration": 13,
    "start_time": "2023-05-30T12:29:46.694Z"
   },
   {
    "duration": 16,
    "start_time": "2023-05-30T12:29:46.709Z"
   },
   {
    "duration": 10,
    "start_time": "2023-05-30T12:29:46.727Z"
   },
   {
    "duration": 1115,
    "start_time": "2023-05-30T12:29:46.739Z"
   },
   {
    "duration": 7,
    "start_time": "2023-05-30T12:29:47.855Z"
   },
   {
    "duration": 90,
    "start_time": "2023-05-30T12:29:47.863Z"
   },
   {
    "duration": 418,
    "start_time": "2023-05-30T12:29:47.957Z"
   },
   {
    "duration": 15,
    "start_time": "2023-05-30T12:29:48.376Z"
   },
   {
    "duration": 6,
    "start_time": "2023-05-30T12:29:48.392Z"
   },
   {
    "duration": 27,
    "start_time": "2023-05-30T12:29:48.400Z"
   },
   {
    "duration": 9,
    "start_time": "2023-05-30T12:29:48.428Z"
   },
   {
    "duration": 8,
    "start_time": "2023-05-30T12:29:48.439Z"
   },
   {
    "duration": 71,
    "start_time": "2023-05-30T12:29:48.448Z"
   },
   {
    "duration": 13,
    "start_time": "2023-05-30T12:29:48.521Z"
   },
   {
    "duration": 50,
    "start_time": "2023-05-30T12:29:48.536Z"
   },
   {
    "duration": 29,
    "start_time": "2023-05-30T12:29:48.588Z"
   },
   {
    "duration": 58,
    "start_time": "2023-05-30T12:29:48.618Z"
   },
   {
    "duration": 6,
    "start_time": "2023-05-30T12:29:48.678Z"
   },
   {
    "duration": 42,
    "start_time": "2023-05-30T12:29:48.685Z"
   },
   {
    "duration": 74,
    "start_time": "2023-05-30T12:29:48.728Z"
   },
   {
    "duration": 389,
    "start_time": "2023-05-30T12:29:48.803Z"
   },
   {
    "duration": 7,
    "start_time": "2023-05-30T12:29:49.194Z"
   },
   {
    "duration": 60,
    "start_time": "2023-05-30T12:29:49.202Z"
   },
   {
    "duration": 11,
    "start_time": "2023-05-30T12:29:49.264Z"
   },
   {
    "duration": 156,
    "start_time": "2023-05-30T12:29:49.277Z"
   },
   {
    "duration": 9025,
    "start_time": "2023-05-30T12:29:49.435Z"
   },
   {
    "duration": 13,
    "start_time": "2023-05-30T12:29:58.461Z"
   },
   {
    "duration": 42,
    "start_time": "2023-05-30T12:29:58.476Z"
   },
   {
    "duration": 120,
    "start_time": "2023-05-30T12:29:58.519Z"
   },
   {
    "duration": 11,
    "start_time": "2023-05-30T12:29:58.641Z"
   },
   {
    "duration": 71,
    "start_time": "2023-05-30T12:29:58.654Z"
   },
   {
    "duration": 29,
    "start_time": "2023-05-30T12:29:58.726Z"
   },
   {
    "duration": 260,
    "start_time": "2023-05-30T12:29:58.756Z"
   },
   {
    "duration": 401,
    "start_time": "2023-05-30T12:29:59.017Z"
   },
   {
    "duration": 6,
    "start_time": "2023-05-30T12:29:59.419Z"
   },
   {
    "duration": 1501,
    "start_time": "2023-05-30T12:29:59.426Z"
   },
   {
    "duration": 4,
    "start_time": "2023-05-30T12:30:00.928Z"
   },
   {
    "duration": 113,
    "start_time": "2023-05-30T12:30:00.934Z"
   },
   {
    "duration": 334,
    "start_time": "2023-05-30T12:30:01.049Z"
   },
   {
    "duration": 8,
    "start_time": "2023-05-30T12:30:01.385Z"
   },
   {
    "duration": 36,
    "start_time": "2023-05-30T12:30:01.394Z"
   },
   {
    "duration": 117,
    "start_time": "2023-05-30T12:30:01.432Z"
   },
   {
    "duration": 174,
    "start_time": "2023-05-30T12:30:01.550Z"
   },
   {
    "duration": 102,
    "start_time": "2023-05-30T12:30:01.726Z"
   },
   {
    "duration": 25,
    "start_time": "2023-05-30T12:30:01.830Z"
   },
   {
    "duration": 444,
    "start_time": "2023-05-30T12:30:01.856Z"
   },
   {
    "duration": 2441,
    "start_time": "2023-05-30T12:39:10.128Z"
   },
   {
    "duration": 536,
    "start_time": "2023-05-30T12:39:12.572Z"
   },
   {
    "duration": 23,
    "start_time": "2023-05-30T12:39:13.110Z"
   },
   {
    "duration": 26,
    "start_time": "2023-05-30T12:39:13.135Z"
   },
   {
    "duration": 29,
    "start_time": "2023-05-30T12:39:13.165Z"
   },
   {
    "duration": 39,
    "start_time": "2023-05-30T12:39:13.198Z"
   },
   {
    "duration": 241,
    "start_time": "2023-05-30T12:39:13.239Z"
   },
   {
    "duration": 13,
    "start_time": "2023-05-30T12:39:13.482Z"
   },
   {
    "duration": 85,
    "start_time": "2023-05-30T12:39:13.497Z"
   },
   {
    "duration": 60,
    "start_time": "2023-05-30T12:39:13.584Z"
   },
   {
    "duration": 25,
    "start_time": "2023-05-30T12:39:13.646Z"
   },
   {
    "duration": 4,
    "start_time": "2023-05-30T12:39:13.673Z"
   },
   {
    "duration": 70,
    "start_time": "2023-05-30T12:39:13.679Z"
   },
   {
    "duration": 54,
    "start_time": "2023-05-30T12:39:13.752Z"
   },
   {
    "duration": 62,
    "start_time": "2023-05-30T12:39:13.810Z"
   },
   {
    "duration": 15,
    "start_time": "2023-05-30T12:39:13.875Z"
   },
   {
    "duration": 62,
    "start_time": "2023-05-30T12:39:13.892Z"
   },
   {
    "duration": 37,
    "start_time": "2023-05-30T12:39:13.956Z"
   },
   {
    "duration": 60,
    "start_time": "2023-05-30T12:39:13.995Z"
   },
   {
    "duration": 35,
    "start_time": "2023-05-30T12:39:14.057Z"
   },
   {
    "duration": 61,
    "start_time": "2023-05-30T12:39:14.094Z"
   },
   {
    "duration": 24,
    "start_time": "2023-05-30T12:39:14.157Z"
   },
   {
    "duration": 77,
    "start_time": "2023-05-30T12:39:14.183Z"
   },
   {
    "duration": 18,
    "start_time": "2023-05-30T12:39:14.262Z"
   },
   {
    "duration": 854,
    "start_time": "2023-05-30T12:39:14.282Z"
   },
   {
    "duration": 16,
    "start_time": "2023-05-30T12:39:15.138Z"
   },
   {
    "duration": 145,
    "start_time": "2023-05-30T12:39:15.157Z"
   },
   {
    "duration": 386,
    "start_time": "2023-05-30T12:39:15.306Z"
   },
   {
    "duration": 44,
    "start_time": "2023-05-30T12:39:15.694Z"
   },
   {
    "duration": 25,
    "start_time": "2023-05-30T12:39:15.740Z"
   },
   {
    "duration": 36,
    "start_time": "2023-05-30T12:39:15.767Z"
   },
   {
    "duration": 77,
    "start_time": "2023-05-30T12:39:15.805Z"
   },
   {
    "duration": 57,
    "start_time": "2023-05-30T12:39:15.884Z"
   },
   {
    "duration": 141,
    "start_time": "2023-05-30T12:39:15.943Z"
   },
   {
    "duration": 31,
    "start_time": "2023-05-30T12:39:16.086Z"
   },
   {
    "duration": 122,
    "start_time": "2023-05-30T12:39:16.121Z"
   },
   {
    "duration": 12,
    "start_time": "2023-05-30T12:39:16.245Z"
   },
   {
    "duration": 99,
    "start_time": "2023-05-30T12:39:16.260Z"
   },
   {
    "duration": 8,
    "start_time": "2023-05-30T12:39:16.361Z"
   },
   {
    "duration": 58,
    "start_time": "2023-05-30T12:39:16.371Z"
   },
   {
    "duration": 113,
    "start_time": "2023-05-30T12:39:16.448Z"
   },
   {
    "duration": 449,
    "start_time": "2023-05-30T12:39:16.564Z"
   },
   {
    "duration": 19,
    "start_time": "2023-05-30T12:39:17.018Z"
   },
   {
    "duration": 124,
    "start_time": "2023-05-30T12:39:17.048Z"
   },
   {
    "duration": 15,
    "start_time": "2023-05-30T12:39:17.174Z"
   },
   {
    "duration": 421,
    "start_time": "2023-05-30T12:39:17.191Z"
   },
   {
    "duration": 12868,
    "start_time": "2023-05-30T12:39:17.614Z"
   },
   {
    "duration": 30,
    "start_time": "2023-05-30T12:39:30.484Z"
   },
   {
    "duration": 90,
    "start_time": "2023-05-30T12:39:30.525Z"
   },
   {
    "duration": 206,
    "start_time": "2023-05-30T12:39:30.622Z"
   },
   {
    "duration": 19,
    "start_time": "2023-05-30T12:39:30.830Z"
   },
   {
    "duration": 57,
    "start_time": "2023-05-30T12:39:30.851Z"
   },
   {
    "duration": 71,
    "start_time": "2023-05-30T12:39:30.914Z"
   },
   {
    "duration": 248,
    "start_time": "2023-05-30T12:39:30.987Z"
   },
   {
    "duration": 441,
    "start_time": "2023-05-30T12:39:31.239Z"
   },
   {
    "duration": 34,
    "start_time": "2023-05-30T12:39:31.682Z"
   },
   {
    "duration": 2355,
    "start_time": "2023-05-30T12:39:31.725Z"
   },
   {
    "duration": 32,
    "start_time": "2023-05-30T12:39:34.083Z"
   },
   {
    "duration": 146,
    "start_time": "2023-05-30T12:39:34.122Z"
   },
   {
    "duration": 279,
    "start_time": "2023-05-30T12:39:34.269Z"
   },
   {
    "duration": 10,
    "start_time": "2023-05-30T12:39:34.550Z"
   },
   {
    "duration": 68,
    "start_time": "2023-05-30T12:39:34.562Z"
   },
   {
    "duration": 54,
    "start_time": "2023-05-30T12:39:34.632Z"
   },
   {
    "duration": 92,
    "start_time": "2023-05-30T12:39:34.689Z"
   },
   {
    "duration": 164,
    "start_time": "2023-05-30T12:39:34.784Z"
   },
   {
    "duration": 6,
    "start_time": "2023-05-30T12:39:34.950Z"
   },
   {
    "duration": 375,
    "start_time": "2023-05-30T12:39:34.957Z"
   },
   {
    "duration": 1741,
    "start_time": "2023-06-01T18:27:16.259Z"
   },
   {
    "duration": 272,
    "start_time": "2023-06-01T18:27:18.003Z"
   },
   {
    "duration": 24,
    "start_time": "2023-06-01T18:27:18.277Z"
   },
   {
    "duration": 16,
    "start_time": "2023-06-01T18:27:18.304Z"
   },
   {
    "duration": 45,
    "start_time": "2023-06-01T18:27:18.324Z"
   },
   {
    "duration": 28,
    "start_time": "2023-06-01T18:27:18.372Z"
   },
   {
    "duration": 57,
    "start_time": "2023-06-01T18:27:18.402Z"
   },
   {
    "duration": 15,
    "start_time": "2023-06-01T18:27:18.461Z"
   },
   {
    "duration": 13,
    "start_time": "2023-06-01T18:27:18.481Z"
   },
   {
    "duration": 8,
    "start_time": "2023-06-01T18:27:18.496Z"
   },
   {
    "duration": 13,
    "start_time": "2023-06-01T18:27:18.506Z"
   },
   {
    "duration": 4,
    "start_time": "2023-06-01T18:27:18.551Z"
   },
   {
    "duration": 16,
    "start_time": "2023-06-01T18:27:18.557Z"
   },
   {
    "duration": 10,
    "start_time": "2023-06-01T18:27:18.576Z"
   },
   {
    "duration": 21,
    "start_time": "2023-06-01T18:27:18.588Z"
   },
   {
    "duration": 41,
    "start_time": "2023-06-01T18:27:18.611Z"
   },
   {
    "duration": 4,
    "start_time": "2023-06-01T18:27:18.654Z"
   },
   {
    "duration": 13,
    "start_time": "2023-06-01T18:27:18.660Z"
   },
   {
    "duration": 14,
    "start_time": "2023-06-01T18:27:18.676Z"
   },
   {
    "duration": 15,
    "start_time": "2023-06-01T18:27:18.693Z"
   },
   {
    "duration": 10,
    "start_time": "2023-06-01T18:27:18.711Z"
   },
   {
    "duration": 28,
    "start_time": "2023-06-01T18:27:18.723Z"
   },
   {
    "duration": 30,
    "start_time": "2023-06-01T18:27:18.753Z"
   },
   {
    "duration": 15,
    "start_time": "2023-06-01T18:27:18.785Z"
   },
   {
    "duration": 653,
    "start_time": "2023-06-01T18:27:18.802Z"
   },
   {
    "duration": 10,
    "start_time": "2023-06-01T18:27:19.457Z"
   },
   {
    "duration": 110,
    "start_time": "2023-06-01T18:27:19.469Z"
   },
   {
    "duration": 515,
    "start_time": "2023-06-01T18:27:19.581Z"
   },
   {
    "duration": 72,
    "start_time": "2023-06-01T18:27:20.098Z"
   },
   {
    "duration": 27,
    "start_time": "2023-06-01T18:27:20.173Z"
   },
   {
    "duration": 70,
    "start_time": "2023-06-01T18:27:20.203Z"
   },
   {
    "duration": 77,
    "start_time": "2023-06-01T18:27:20.275Z"
   },
   {
    "duration": 30,
    "start_time": "2023-06-01T18:27:20.355Z"
   },
   {
    "duration": 177,
    "start_time": "2023-06-01T18:27:20.388Z"
   },
   {
    "duration": 23,
    "start_time": "2023-06-01T18:27:20.567Z"
   },
   {
    "duration": 200,
    "start_time": "2023-06-01T18:27:20.650Z"
   },
   {
    "duration": 11,
    "start_time": "2023-06-01T18:27:20.852Z"
   },
   {
    "duration": 194,
    "start_time": "2023-06-01T18:27:20.866Z"
   },
   {
    "duration": 7,
    "start_time": "2023-06-01T18:27:21.062Z"
   },
   {
    "duration": 91,
    "start_time": "2023-06-01T18:27:21.071Z"
   },
   {
    "duration": 209,
    "start_time": "2023-06-01T18:27:21.169Z"
   },
   {
    "duration": 300,
    "start_time": "2023-06-01T18:27:21.380Z"
   },
   {
    "duration": 11,
    "start_time": "2023-06-01T18:27:21.682Z"
   },
   {
    "duration": 112,
    "start_time": "2023-06-01T18:27:21.695Z"
   },
   {
    "duration": 13,
    "start_time": "2023-06-01T18:27:21.809Z"
   },
   {
    "duration": 249,
    "start_time": "2023-06-01T18:27:21.824Z"
   },
   {
    "duration": 10869,
    "start_time": "2023-06-01T18:27:22.075Z"
   },
   {
    "duration": 14,
    "start_time": "2023-06-01T18:27:32.952Z"
   },
   {
    "duration": 23,
    "start_time": "2023-06-01T18:27:32.968Z"
   },
   {
    "duration": 262,
    "start_time": "2023-06-01T18:27:32.993Z"
   },
   {
    "duration": 18,
    "start_time": "2023-06-01T18:27:33.257Z"
   },
   {
    "duration": 14,
    "start_time": "2023-06-01T18:27:33.277Z"
   },
   {
    "duration": 23,
    "start_time": "2023-06-01T18:27:33.293Z"
   },
   {
    "duration": 174,
    "start_time": "2023-06-01T18:27:33.319Z"
   },
   {
    "duration": 338,
    "start_time": "2023-06-01T18:27:33.495Z"
   },
   {
    "duration": 16,
    "start_time": "2023-06-01T18:27:33.835Z"
   },
   {
    "duration": 1823,
    "start_time": "2023-06-01T18:27:33.853Z"
   },
   {
    "duration": 5,
    "start_time": "2023-06-01T18:27:35.678Z"
   },
   {
    "duration": 113,
    "start_time": "2023-06-01T18:27:35.685Z"
   },
   {
    "duration": 231,
    "start_time": "2023-06-01T18:27:35.800Z"
   },
   {
    "duration": 20,
    "start_time": "2023-06-01T18:27:36.033Z"
   },
   {
    "duration": 14,
    "start_time": "2023-06-01T18:27:36.055Z"
   },
   {
    "duration": 41,
    "start_time": "2023-06-01T18:27:36.071Z"
   },
   {
    "duration": 63,
    "start_time": "2023-06-01T18:27:36.113Z"
   },
   {
    "duration": 96,
    "start_time": "2023-06-01T18:27:36.178Z"
   },
   {
    "duration": 7,
    "start_time": "2023-06-01T18:27:36.276Z"
   },
   {
    "duration": 321,
    "start_time": "2023-06-01T18:27:36.284Z"
   }
  ],
  "kernelspec": {
   "display_name": "Python 3 (ipykernel)",
   "language": "python",
   "name": "python3"
  },
  "language_info": {
   "codemirror_mode": {
    "name": "ipython",
    "version": 3
   },
   "file_extension": ".py",
   "mimetype": "text/x-python",
   "name": "python",
   "nbconvert_exporter": "python",
   "pygments_lexer": "ipython3",
   "version": "3.9.13"
  },
  "toc": {
   "base_numbering": 1,
   "nav_menu": {},
   "number_sections": true,
   "sideBar": true,
   "skip_h1_title": true,
   "title_cell": "Table of Contents",
   "title_sidebar": "Contents",
   "toc_cell": false,
   "toc_position": {},
   "toc_section_display": true,
   "toc_window_display": true
  }
 },
 "nbformat": 4,
 "nbformat_minor": 5
}
